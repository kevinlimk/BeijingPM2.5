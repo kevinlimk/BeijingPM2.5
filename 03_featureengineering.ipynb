{
 "cells": [
  {
   "cell_type": "markdown",
   "metadata": {
    "colab_type": "text",
    "id": "cd8A2n4yA_cm"
   },
   "source": [
    "# Using Machine Learning to Forecast Air Quality in Beijing"
   ]
  },
  {
   "cell_type": "markdown",
   "metadata": {
    "colab_type": "text",
    "id": "kkk2Oh3qHbJx"
   },
   "source": [
    "## 3 - Feature Engineering"
   ]
  },
  {
   "cell_type": "markdown",
   "metadata": {
    "colab_type": "text",
    "id": "7k43U-NBA_cr"
   },
   "source": [
    "### Import Python Packages"
   ]
  },
  {
   "cell_type": "code",
   "execution_count": 1,
   "metadata": {
    "colab": {},
    "colab_type": "code",
    "id": "24KxWuBlA_ct",
    "tags": []
   },
   "outputs": [
    {
     "output_type": "stream",
     "name": "stdout",
     "text": "The history saving thread hit an unexpected error (DatabaseError('database disk image is malformed')).History will not be written to the database.\n"
    }
   ],
   "source": [
    "import pandas as pd\n",
    "import numpy as np\n",
    "from datetime import datetime, timedelta\n",
    "import matplotlib.pyplot as plt\n",
    "from statsmodels.tsa.stattools import adfuller\n",
    "\n",
    "import pmdarima as pm\n",
    "from pmdarima import pipeline\n",
    "from pmdarima import preprocessing as ppc\n",
    "from pmdarima import arima\n",
    "from stldecompose import decompose, forecast\n",
    "from stldecompose.forecast_funcs import (naive, drift, mean, seasonal_naive)\n",
    "\n",
    "from tqdm import tqdm as tqdm"
   ]
  },
  {
   "cell_type": "markdown",
   "metadata": {
    "colab_type": "text",
    "id": "1ZybtiNxA_cz"
   },
   "source": [
    "### Load cleaned data set"
   ]
  },
  {
   "cell_type": "code",
   "execution_count": 2,
   "metadata": {
    "colab": {
     "base_uri": "https://localhost:8080/",
     "height": 683
    },
    "colab_type": "code",
    "executionInfo": {
     "elapsed": 860,
     "status": "ok",
     "timestamp": 1583265075813,
     "user": {
      "displayName": "Kevin Limkrailassiri (Seattle)",
      "photoUrl": "https://lh3.googleusercontent.com/a-/AOh14GjTZF6PvMqu-27sXiqIhKDVBWap6jfV2nfp_c8=s64",
      "userId": "08941516172105773546"
     },
     "user_tz": 480
    },
    "id": "zapxirogA_c1",
    "outputId": "6ad4799e-42f4-473f-f64c-0c04fa802a6f",
    "scrolled": true,
    "tags": []
   },
   "outputs": [
    {
     "output_type": "stream",
     "name": "stdout",
     "text": "<class 'pandas.core.frame.DataFrame'>\nDatetimeIndex: 2190 entries, 2010-01-02 to 2015-12-31\nData columns (total 12 columns):\n #   Column             Non-Null Count  Dtype  \n---  ------             --------------  -----  \n 0   wind_dir           2190 non-null   object \n 1   year               2190 non-null   int64  \n 2   month              2190 non-null   int64  \n 3   season             2190 non-null   int64  \n 4   pm25               2190 non-null   float64\n 5   dew_point          2190 non-null   float64\n 6   humidity           2190 non-null   float64\n 7   pressure           2190 non-null   float64\n 8   temp               2190 non-null   float64\n 9   wind_speed         2190 non-null   float64\n 10  precipitation      2190 non-null   float64\n 11  cum_precipitation  2190 non-null   float64\ndtypes: float64(8), int64(3), object(1)\nmemory usage: 222.4+ KB\n"
    },
    {
     "output_type": "execute_result",
     "data": {
      "text/plain": "           wind_dir  year  month  season        pm25  dew_point   humidity  \\\n2010-01-02       SE  2010      1       4  144.333333  -8.500000  77.937500   \n2010-01-03       SE  2010      1       4   78.375000 -10.125000  87.916667   \n2010-01-04       NW  2010      1       4   29.291667 -20.875000  46.208333   \n2010-01-05       NW  2010      1       4   43.541667 -24.583333  42.041667   \n2010-01-06       NE  2010      1       4   59.375000 -23.708333  39.208333   \n\n               pressure       temp  wind_speed  precipitation  \\\n2010-01-02  1024.750000  -5.125000   24.860000       0.000000   \n2010-01-03  1022.791667  -8.541667   70.937917       0.466667   \n2010-01-04  1029.291667 -11.500000  111.160833       0.000000   \n2010-01-05  1033.625000 -14.458333   56.920000       0.000000   \n2010-01-06  1033.750000 -12.541667   18.511667       0.000000   \n\n            cum_precipitation  \n2010-01-02                0.0  \n2010-01-03               11.2  \n2010-01-04                0.0  \n2010-01-05                0.0  \n2010-01-06                0.0  ",
      "text/html": "<div>\n<style scoped>\n    .dataframe tbody tr th:only-of-type {\n        vertical-align: middle;\n    }\n\n    .dataframe tbody tr th {\n        vertical-align: top;\n    }\n\n    .dataframe thead th {\n        text-align: right;\n    }\n</style>\n<table border=\"1\" class=\"dataframe\">\n  <thead>\n    <tr style=\"text-align: right;\">\n      <th></th>\n      <th>wind_dir</th>\n      <th>year</th>\n      <th>month</th>\n      <th>season</th>\n      <th>pm25</th>\n      <th>dew_point</th>\n      <th>humidity</th>\n      <th>pressure</th>\n      <th>temp</th>\n      <th>wind_speed</th>\n      <th>precipitation</th>\n      <th>cum_precipitation</th>\n    </tr>\n  </thead>\n  <tbody>\n    <tr>\n      <th>2010-01-02</th>\n      <td>SE</td>\n      <td>2010</td>\n      <td>1</td>\n      <td>4</td>\n      <td>144.333333</td>\n      <td>-8.500000</td>\n      <td>77.937500</td>\n      <td>1024.750000</td>\n      <td>-5.125000</td>\n      <td>24.860000</td>\n      <td>0.000000</td>\n      <td>0.0</td>\n    </tr>\n    <tr>\n      <th>2010-01-03</th>\n      <td>SE</td>\n      <td>2010</td>\n      <td>1</td>\n      <td>4</td>\n      <td>78.375000</td>\n      <td>-10.125000</td>\n      <td>87.916667</td>\n      <td>1022.791667</td>\n      <td>-8.541667</td>\n      <td>70.937917</td>\n      <td>0.466667</td>\n      <td>11.2</td>\n    </tr>\n    <tr>\n      <th>2010-01-04</th>\n      <td>NW</td>\n      <td>2010</td>\n      <td>1</td>\n      <td>4</td>\n      <td>29.291667</td>\n      <td>-20.875000</td>\n      <td>46.208333</td>\n      <td>1029.291667</td>\n      <td>-11.500000</td>\n      <td>111.160833</td>\n      <td>0.000000</td>\n      <td>0.0</td>\n    </tr>\n    <tr>\n      <th>2010-01-05</th>\n      <td>NW</td>\n      <td>2010</td>\n      <td>1</td>\n      <td>4</td>\n      <td>43.541667</td>\n      <td>-24.583333</td>\n      <td>42.041667</td>\n      <td>1033.625000</td>\n      <td>-14.458333</td>\n      <td>56.920000</td>\n      <td>0.000000</td>\n      <td>0.0</td>\n    </tr>\n    <tr>\n      <th>2010-01-06</th>\n      <td>NE</td>\n      <td>2010</td>\n      <td>1</td>\n      <td>4</td>\n      <td>59.375000</td>\n      <td>-23.708333</td>\n      <td>39.208333</td>\n      <td>1033.750000</td>\n      <td>-12.541667</td>\n      <td>18.511667</td>\n      <td>0.000000</td>\n      <td>0.0</td>\n    </tr>\n  </tbody>\n</table>\n</div>"
     },
     "metadata": {},
     "execution_count": 2
    }
   ],
   "source": [
    "df = pd.read_csv('data/dailypm25.csv',\n",
    "                 index_col=0,\n",
    "                 parse_dates=[0],\n",
    "                 date_parser=pd.to_datetime,\n",
    "                 infer_datetime_format=True)\n",
    "df.info()\n",
    "df.head()"
   ]
  },
  {
   "cell_type": "code",
   "execution_count": 3,
   "metadata": {},
   "outputs": [
    {
     "output_type": "execute_result",
     "data": {
      "text/plain": "           wind_dir  year  month  season        pm25  dew_point   humidity  \\\n2015-12-27       NE  2015     12       4   56.208333 -13.958333  53.541667   \n2015-12-28       NW  2015     12       4  112.416667 -11.458333  60.750000   \n2015-12-29       cv  2015     12       4  331.875000  -6.625000  76.125000   \n2015-12-30       NW  2015     12       4  101.750000  -8.750000  58.458333   \n2015-12-31       NW  2015     12       4   70.875000 -10.083333  59.416667   \n\n               pressure      temp  wind_speed  precipitation  \\\n2015-12-27  1038.625000 -5.666667    3.950833            0.0   \n2015-12-28  1035.041667 -4.291667   13.656667            0.0   \n2015-12-29  1028.875000 -2.791667    1.244583            0.0   \n2015-12-30  1030.375000 -0.333333   26.502500            0.0   \n2015-12-31  1032.458333 -2.833333    9.073333            0.0   \n\n            cum_precipitation  \n2015-12-27                0.0  \n2015-12-28                0.0  \n2015-12-29                0.0  \n2015-12-30                0.0  \n2015-12-31                0.0  ",
      "text/html": "<div>\n<style scoped>\n    .dataframe tbody tr th:only-of-type {\n        vertical-align: middle;\n    }\n\n    .dataframe tbody tr th {\n        vertical-align: top;\n    }\n\n    .dataframe thead th {\n        text-align: right;\n    }\n</style>\n<table border=\"1\" class=\"dataframe\">\n  <thead>\n    <tr style=\"text-align: right;\">\n      <th></th>\n      <th>wind_dir</th>\n      <th>year</th>\n      <th>month</th>\n      <th>season</th>\n      <th>pm25</th>\n      <th>dew_point</th>\n      <th>humidity</th>\n      <th>pressure</th>\n      <th>temp</th>\n      <th>wind_speed</th>\n      <th>precipitation</th>\n      <th>cum_precipitation</th>\n    </tr>\n  </thead>\n  <tbody>\n    <tr>\n      <th>2015-12-27</th>\n      <td>NE</td>\n      <td>2015</td>\n      <td>12</td>\n      <td>4</td>\n      <td>56.208333</td>\n      <td>-13.958333</td>\n      <td>53.541667</td>\n      <td>1038.625000</td>\n      <td>-5.666667</td>\n      <td>3.950833</td>\n      <td>0.0</td>\n      <td>0.0</td>\n    </tr>\n    <tr>\n      <th>2015-12-28</th>\n      <td>NW</td>\n      <td>2015</td>\n      <td>12</td>\n      <td>4</td>\n      <td>112.416667</td>\n      <td>-11.458333</td>\n      <td>60.750000</td>\n      <td>1035.041667</td>\n      <td>-4.291667</td>\n      <td>13.656667</td>\n      <td>0.0</td>\n      <td>0.0</td>\n    </tr>\n    <tr>\n      <th>2015-12-29</th>\n      <td>cv</td>\n      <td>2015</td>\n      <td>12</td>\n      <td>4</td>\n      <td>331.875000</td>\n      <td>-6.625000</td>\n      <td>76.125000</td>\n      <td>1028.875000</td>\n      <td>-2.791667</td>\n      <td>1.244583</td>\n      <td>0.0</td>\n      <td>0.0</td>\n    </tr>\n    <tr>\n      <th>2015-12-30</th>\n      <td>NW</td>\n      <td>2015</td>\n      <td>12</td>\n      <td>4</td>\n      <td>101.750000</td>\n      <td>-8.750000</td>\n      <td>58.458333</td>\n      <td>1030.375000</td>\n      <td>-0.333333</td>\n      <td>26.502500</td>\n      <td>0.0</td>\n      <td>0.0</td>\n    </tr>\n    <tr>\n      <th>2015-12-31</th>\n      <td>NW</td>\n      <td>2015</td>\n      <td>12</td>\n      <td>4</td>\n      <td>70.875000</td>\n      <td>-10.083333</td>\n      <td>59.416667</td>\n      <td>1032.458333</td>\n      <td>-2.833333</td>\n      <td>9.073333</td>\n      <td>0.0</td>\n      <td>0.0</td>\n    </tr>\n  </tbody>\n</table>\n</div>"
     },
     "metadata": {},
     "execution_count": 3
    }
   ],
   "source": [
    "df.tail()"
   ]
  },
  {
   "cell_type": "code",
   "execution_count": 4,
   "metadata": {},
   "outputs": [],
   "source": [
    "from pmdarima.arima.stationarity import ADFTest\n",
    "\n",
    "# Test whether we should difference at the alpha=0.05\n",
    "# significance level\n",
    "adf_test = ADFTest(alpha=0.05)\n",
    "p_val, should_diff = adf_test.should_diff(df.pm25.values)  # (0.01, False)"
   ]
  },
  {
   "cell_type": "code",
   "execution_count": 5,
   "metadata": {},
   "outputs": [],
   "source": [
    "# Generating a 7 day forecast for the first week of 2015\n",
    "\n",
    "BURN_IN = \"2012-01-01\"\n",
    "FORECAST_START = \"2015-01-01\"\n",
    "FORECAST_END = \"2015-12-31\"\n",
    "FORECAST_DAYS = 7"
   ]
  },
  {
   "cell_type": "code",
   "execution_count": 6,
   "metadata": {},
   "outputs": [],
   "source": [
    "timestamps = pd.date_range(start=BURN_IN, end=FORECAST_END, freq='D')"
   ]
  },
  {
   "cell_type": "code",
   "execution_count": 7,
   "metadata": {},
   "outputs": [],
   "source": [
    "def create_lag_features(series, lag_range, prefix):\n",
    "\n",
    "    df = pd.DataFrame()\n",
    "\n",
    "    for lag in lag_range:\n",
    "        df[prefix + \"_lag_\" + str(lag - 1)] = series.shift(lag)\n",
    "\n",
    "    return(df)"
   ]
  },
  {
   "cell_type": "code",
   "execution_count": 8,
   "metadata": {},
   "outputs": [],
   "source": [
    "def fit_stl(history, steps):\n",
    "    decomp = decompose(history, period=365)\n",
    "    pred = forecast(decomp, steps=steps, fc_func=drift, seasonal=True)\n",
    "    return(pred)"
   ]
  },
  {
   "cell_type": "code",
   "execution_count": 9,
   "metadata": {},
   "outputs": [],
   "source": [
    "def fit_arima(history, steps):\n",
    "    pipe = pipeline.Pipeline(\n",
    "        [\n",
    "            (\"fourier\", ppc.FourierFeaturizer(m=365.25, k=10)),\n",
    "            (\"arima\", arima.AutoARIMA(\n",
    "                stepwise=True,\n",
    "                trace=1,\n",
    "                error_action=\"ignore\",\n",
    "                seasonal=False,\n",
    "                suppress_warnings=True\n",
    "                ))])\n",
    "\n",
    "    pipe.fit(history);\n",
    "    pred = pipe.predict(n_periods=steps)\n",
    "    return(pred)"
   ]
  },
  {
   "cell_type": "code",
   "execution_count": 10,
   "metadata": {},
   "outputs": [],
   "source": [
    "def forecast_horizons(df, col, timestamps, forecast_start, horizons, lags):\n",
    "\n",
    "    dfs_with_horizons = []\n",
    "    \n",
    "    for timestamp in tqdm(timestamps[:-horizons]):\n",
    "\n",
    "        df_with_horizon = pd.DataFrame()\n",
    "\n",
    "        df_with_horizon[\"horizon\"] = list(range(1, horizons+1))\n",
    "        df_with_horizon[\"date_origin\"] = [(timestamp.date() - timedelta(days=1)).strftime('%Y-%m-%d')]*horizons\n",
    "        df_with_horizon[\"date_target\"] = pd.date_range(start=timestamp.date(), periods=horizons, freq='D').astype(str).to_list()\n",
    "        df_with_horizon[\"target\"] = df[timestamp.date():][col].head(horizons).values\n",
    "\n",
    "        history = df[:timestamp.date()][col].head(-1)\n",
    "\n",
    "        if timestamp.date().strftime('%Y-%m-%d') < forecast_start:\n",
    "\n",
    "            pred_stl = np.empty((horizons, 1))\n",
    "            pred_stl[:] = np.nan\n",
    "            pred_arima = np.empty((horizons, 1))\n",
    "            pred_arima[:] = np.nan\n",
    "\n",
    "            df_stl_lags = create_lag_features(series=pd.Series(history), lag_range=range(2, lags + 1), prefix=\"stl\").tail(horizons).reset_index(drop=True)\n",
    "            df_arima_lags = create_lag_features(series=pd.Series(history), lag_range=range(2, lags + 1), prefix=\"arima\").tail(horizons).reset_index(drop=True)\n",
    "\n",
    "        else:\n",
    "\n",
    "            pred_stl = fit_stl(history, steps=horizons)\n",
    "            pred_arima = fit_arima(history, steps=horizons)\n",
    "\n",
    "            df_stl_lags = create_lag_features(series=pd.Series(np.append(history, pred_stl)), lag_range=range(2, lags + 2), prefix=\"stl\").tail(horizons).reset_index(drop=True)\n",
    "            df_arima_lags = create_lag_features(series=pd.Series(np.append(history, pred_arima)), lag_range=range(2, lags + 2), prefix=\"arima\").tail(horizons).reset_index(drop=True)\n",
    "\n",
    "        df_with_horizon[\"pred_stl\"] = pred_stl\n",
    "        df_with_horizon[\"pred_arima\"] = pred_arima\n",
    "\n",
    "        dfs_with_horizons.append(pd.concat([df_with_horizon, df_stl_lags, df_arima_lags], axis=1))\n",
    "\n",
    "    return pd.concat(dfs_with_horizons).sort_values([\"date_target\", \"date_origin\"])"
   ]
  },
  {
   "cell_type": "code",
   "execution_count": 11,
   "metadata": {
    "tags": [
     "outputPrepend"
    ]
   },
   "outputs": [
    {
     "output_type": "stream",
     "name": "stderr",
     "text": "nit circle: 1.000)\nFit ARIMA(2,1,1)x(0,0,0,0) [intercept=True]; AIC=24098.214, BIC=24240.334, Time=9.100 seconds\nNear non-invertible roots for order (2, 1, 1)(0, 0, 0, 0); setting score to inf (at least one inverse root too close to the border of the unit circle: 1.000)\nFit ARIMA(3,1,2)x(0,0,0,0) [intercept=True]; AIC=24093.939, BIC=24247.428, Time=18.954 seconds\nNear non-invertible roots for order (3, 1, 2)(0, 0, 0, 0); setting score to inf (at least one inverse root too close to the border of the unit circle: 1.000)\nFit ARIMA(2,1,3)x(0,0,0,0) [intercept=True]; AIC=24097.182, BIC=24250.671, Time=12.914 seconds\nNear non-invertible roots for order (2, 1, 3)(0, 0, 0, 0); setting score to inf (at least one inverse root too close to the border of the unit circle: 1.000)\nFit ARIMA(1,1,1)x(0,0,0,0) [intercept=True]; AIC=24167.893, BIC=24304.327, Time=13.392 seconds\nNear non-invertible roots for order (1, 1, 1)(0, 0, 0, 0); setting score to inf (at least one inverse root too close to the border of the unit circle: 1.000)\nFit ARIMA(1,1,3)x(0,0,0,0) [intercept=True]; AIC=24100.673, BIC=24248.477, Time=9.628 seconds\nNear non-invertible roots for order (1, 1, 3)(0, 0, 0, 0); setting score to inf (at least one inverse root too close to the border of the unit circle: 0.999)\nFit ARIMA(3,1,1)x(0,0,0,0) [intercept=True]; AIC=24099.031, BIC=24246.835, Time=14.676 seconds\nNear non-invertible roots for order (3, 1, 1)(0, 0, 0, 0); setting score to inf (at least one inverse root too close to the border of the unit circle: 1.000)\n100%|█████████▉| 1448/1454 [12:12:02<14:57, 149.55s/it]Fit ARIMA(3,1,3)x(0,0,0,0) [intercept=True]; AIC=24095.251, BIC=24254.425, Time=21.329 seconds\nNear non-invertible roots for order (3, 1, 3)(0, 0, 0, 0); setting score to inf (at least one inverse root too close to the border of the unit circle: 0.998)\nTotal fit time: 143.352 seconds\nPerforming stepwise search to minimize aic\nFit ARIMA(2,1,2)x(0,0,0,0) [intercept=True]; AIC=24108.955, BIC=24256.771, Time=17.030 seconds\nFit ARIMA(0,1,0)x(0,0,0,0) [intercept=True]; AIC=24730.831, BIC=24855.907, Time=0.520 seconds\nFit ARIMA(1,1,0)x(0,0,0,0) [intercept=True]; AIC=24715.984, BIC=24846.745, Time=0.546 seconds\nFit ARIMA(0,1,1)x(0,0,0,0) [intercept=True]; AIC=24694.488, BIC=24825.248, Time=2.170 seconds\nFit ARIMA(0,1,0)x(0,0,0,0) [intercept=False]; AIC=24728.832, BIC=24848.222, Time=6.213 seconds\nFit ARIMA(1,1,2)x(0,0,0,0) [intercept=True]; AIC=24108.545, BIC=24250.676, Time=8.114 seconds\nNear non-invertible roots for order (1, 1, 2)(0, 0, 0, 0); setting score to inf (at least one inverse root too close to the border of the unit circle: 0.999)\nFit ARIMA(2,1,1)x(0,0,0,0) [intercept=True]; AIC=24107.760, BIC=24249.892, Time=9.180 seconds\nNear non-invertible roots for order (2, 1, 1)(0, 0, 0, 0); setting score to inf (at least one inverse root too close to the border of the unit circle: 1.000)\nFit ARIMA(3,1,2)x(0,0,0,0) [intercept=True]; AIC=24103.989, BIC=24257.490, Time=20.082 seconds\nNear non-invertible roots for order (3, 1, 2)(0, 0, 0, 0); setting score to inf (at least one inverse root too close to the border of the unit circle: 1.000)\nFit ARIMA(2,1,3)x(0,0,0,0) [intercept=True]; AIC=24106.273, BIC=24259.774, Time=20.245 seconds\nNear non-invertible roots for order (2, 1, 3)(0, 0, 0, 0); setting score to inf (at least one inverse root too close to the border of the unit circle: 1.000)\nFit ARIMA(1,1,1)x(0,0,0,0) [intercept=True]; AIC=24177.994, BIC=24314.440, Time=13.072 seconds\nNear non-invertible roots for order (1, 1, 1)(0, 0, 0, 0); setting score to inf (at least one inverse root too close to the border of the unit circle: 1.000)\nFit ARIMA(1,1,3)x(0,0,0,0) [intercept=True]; AIC=24110.298, BIC=24258.114, Time=9.815 seconds\nNear non-invertible roots for order (1, 1, 3)(0, 0, 0, 0); setting score to inf (at least one inverse root too close to the border of the unit circle: 0.999)\nFit ARIMA(3,1,1)x(0,0,0,0) [intercept=True]; AIC=24109.507, BIC=24257.324, Time=9.989 seconds\nNear non-invertible roots for order (3, 1, 1)(0, 0, 0, 0); setting score to inf (at least one inverse root too close to the border of the unit circle: 1.000)\n100%|█████████▉| 1449/1454 [12:14:22<12:12, 146.51s/it]Fit ARIMA(3,1,3)x(0,0,0,0) [intercept=True]; AIC=24105.483, BIC=24264.669, Time=22.225 seconds\nNear non-invertible roots for order (3, 1, 3)(0, 0, 0, 0); setting score to inf (at least one inverse root too close to the border of the unit circle: 0.997)\nTotal fit time: 139.220 seconds\nPerforming stepwise search to minimize aic\nFit ARIMA(2,1,2)x(0,0,0,0) [intercept=True]; AIC=24121.627, BIC=24269.455, Time=15.233 seconds\nFit ARIMA(0,1,0)x(0,0,0,0) [intercept=True]; AIC=24743.060, BIC=24868.145, Time=0.506 seconds\nFit ARIMA(1,1,0)x(0,0,0,0) [intercept=True]; AIC=24728.279, BIC=24859.050, Time=0.557 seconds\nFit ARIMA(0,1,1)x(0,0,0,0) [intercept=True]; AIC=24706.976, BIC=24837.747, Time=2.189 seconds\nFit ARIMA(0,1,0)x(0,0,0,0) [intercept=False]; AIC=24741.060, BIC=24860.460, Time=5.723 seconds\nFit ARIMA(1,1,2)x(0,0,0,0) [intercept=True]; AIC=24120.712, BIC=24262.854, Time=12.726 seconds\nNear non-invertible roots for order (1, 1, 2)(0, 0, 0, 0); setting score to inf (at least one inverse root too close to the border of the unit circle: 0.999)\nFit ARIMA(2,1,1)x(0,0,0,0) [intercept=True]; AIC=24121.686, BIC=24263.829, Time=9.392 seconds\nNear non-invertible roots for order (2, 1, 1)(0, 0, 0, 0); setting score to inf (at least one inverse root too close to the border of the unit circle: 1.000)\nFit ARIMA(3,1,2)x(0,0,0,0) [intercept=True]; AIC=24116.686, BIC=24270.200, Time=17.117 seconds\nNear non-invertible roots for order (3, 1, 2)(0, 0, 0, 0); setting score to inf (at least one inverse root too close to the border of the unit circle: 1.000)\nFit ARIMA(2,1,3)x(0,0,0,0) [intercept=True]; AIC=24119.173, BIC=24272.687, Time=20.277 seconds\nNear non-invertible roots for order (2, 1, 3)(0, 0, 0, 0); setting score to inf (at least one inverse root too close to the border of the unit circle: 1.000)\nFit ARIMA(1,1,1)x(0,0,0,0) [intercept=True]; AIC=24192.008, BIC=24328.464, Time=6.938 seconds\nNear non-invertible roots for order (1, 1, 1)(0, 0, 0, 0); setting score to inf (at least one inverse root too close to the border of the unit circle: 0.999)\nFit ARIMA(1,1,3)x(0,0,0,0) [intercept=True]; AIC=24122.381, BIC=24270.209, Time=19.645 seconds\nNear non-invertible roots for order (1, 1, 3)(0, 0, 0, 0); setting score to inf (at least one inverse root too close to the border of the unit circle: 0.999)\nFit ARIMA(3,1,1)x(0,0,0,0) [intercept=True]; AIC=24121.533, BIC=24269.361, Time=16.501 seconds\nNear non-invertible roots for order (3, 1, 1)(0, 0, 0, 0); setting score to inf (at least one inverse root too close to the border of the unit circle: 1.000)\n100%|█████████▉| 1450/1454 [12:16:51<09:49, 147.30s/it]Fit ARIMA(3,1,3)x(0,0,0,0) [intercept=True]; AIC=24118.899, BIC=24278.099, Time=22.131 seconds\nNear non-invertible roots for order (3, 1, 3)(0, 0, 0, 0); setting score to inf (at least one inverse root too close to the border of the unit circle: 0.996)\nTotal fit time: 148.951 seconds\nPerforming stepwise search to minimize aic\nFit ARIMA(2,1,2)x(0,0,0,0) [intercept=True]; AIC=24136.328, BIC=24284.168, Time=17.565 seconds\nFit ARIMA(0,1,0)x(0,0,0,0) [intercept=True]; AIC=24754.385, BIC=24879.480, Time=0.517 seconds\nFit ARIMA(1,1,0)x(0,0,0,0) [intercept=True]; AIC=24739.856, BIC=24870.638, Time=0.536 seconds\nFit ARIMA(0,1,1)x(0,0,0,0) [intercept=True]; AIC=24719.003, BIC=24849.785, Time=4.010 seconds\nFit ARIMA(0,1,0)x(0,0,0,0) [intercept=False]; AIC=24752.386, BIC=24871.796, Time=6.804 seconds\nFit ARIMA(1,1,2)x(0,0,0,0) [intercept=True]; AIC=24133.676, BIC=24275.830, Time=14.360 seconds\nNear non-invertible roots for order (1, 1, 2)(0, 0, 0, 0); setting score to inf (at least one inverse root too close to the border of the unit circle: 0.999)\nFit ARIMA(2,1,1)x(0,0,0,0) [intercept=True]; AIC=24132.734, BIC=24274.888, Time=15.888 seconds\nNear non-invertible roots for order (2, 1, 1)(0, 0, 0, 0); setting score to inf (at least one inverse root too close to the border of the unit circle: 1.000)\nFit ARIMA(3,1,2)x(0,0,0,0) [intercept=True]; AIC=24133.364, BIC=24286.890, Time=19.968 seconds\nNear non-invertible roots for order (3, 1, 2)(0, 0, 0, 0); setting score to inf (at least one inverse root too close to the border of the unit circle: 0.992)\nFit ARIMA(2,1,3)x(0,0,0,0) [intercept=True]; AIC=24132.516, BIC=24286.042, Time=20.304 seconds\nNear non-invertible roots for order (2, 1, 3)(0, 0, 0, 0); setting score to inf (at least one inverse root too close to the border of the unit circle: 1.000)\nFit ARIMA(1,1,1)x(0,0,0,0) [intercept=True]; AIC=24204.072, BIC=24340.540, Time=13.094 seconds\nNear non-invertible roots for order (1, 1, 1)(0, 0, 0, 0); setting score to inf (at least one inverse root too close to the border of the unit circle: 0.999)\nFit ARIMA(1,1,3)x(0,0,0,0) [intercept=True]; AIC=24135.320, BIC=24283.160, Time=18.541 seconds\nNear non-invertible roots for order (1, 1, 3)(0, 0, 0, 0); setting score to inf (at least one inverse root too close to the border of the unit circle: 0.999)\nFit ARIMA(3,1,1)x(0,0,0,0) [intercept=True]; AIC=24134.488, BIC=24282.329, Time=15.153 seconds\nNear non-invertible roots for order (3, 1, 1)(0, 0, 0, 0); setting score to inf (at least one inverse root too close to the border of the unit circle: 1.000)\nFit ARIMA(3,1,3)x(0,0,0,0) [intercept=True]; AIC=24133.387, BIC=24292.599, Time=22.047 seconds\nFit ARIMA(4,1,3)x(0,0,0,0) [intercept=True]; AIC=24134.377, BIC=24299.276, Time=23.230 seconds\nNear non-invertible roots for order (4, 1, 3)(0, 0, 0, 0); setting score to inf (at least one inverse root too close to the border of the unit circle: 0.999)\nFit ARIMA(3,1,4)x(0,0,0,0) [intercept=True]; AIC=24137.742, BIC=24302.641, Time=23.910 seconds\nNear non-invertible roots for order (3, 1, 4)(0, 0, 0, 0); setting score to inf (at least one inverse root too close to the border of the unit circle: 1.000)\nFit ARIMA(2,1,4)x(0,0,0,0) [intercept=True]; AIC=24133.933, BIC=24293.146, Time=20.936 seconds\nNear non-invertible roots for order (2, 1, 4)(0, 0, 0, 0); setting score to inf (at least one inverse root too close to the border of the unit circle: 1.000)\nFit ARIMA(4,1,2)x(0,0,0,0) [intercept=True]; AIC=24134.793, BIC=24294.005, Time=24.601 seconds\n100%|█████████▉| 1451/1454 [12:21:35<09:25, 188.51s/it]Fit ARIMA(4,1,4)x(0,0,0,0) [intercept=True]; AIC=24138.797, BIC=24309.381, Time=22.984 seconds\nNear non-invertible roots for order (4, 1, 4)(0, 0, 0, 0); setting score to inf (at least one inverse root too close to the border of the unit circle: 0.999)\nTotal fit time: 284.473 seconds\nPerforming stepwise search to minimize aic\nFit ARIMA(2,1,2)x(0,0,0,0) [intercept=True]; AIC=24149.112, BIC=24296.964, Time=16.789 seconds\nFit ARIMA(0,1,0)x(0,0,0,0) [intercept=True]; AIC=24764.731, BIC=24889.837, Time=0.515 seconds\nFit ARIMA(1,1,0)x(0,0,0,0) [intercept=True]; AIC=24750.209, BIC=24881.001, Time=0.550 seconds\nFit ARIMA(0,1,1)x(0,0,0,0) [intercept=True]; AIC=24729.427, BIC=24860.220, Time=4.009 seconds\nFit ARIMA(0,1,0)x(0,0,0,0) [intercept=False]; AIC=24762.733, BIC=24882.152, Time=6.820 seconds\nFit ARIMA(1,1,2)x(0,0,0,0) [intercept=True]; AIC=24145.417, BIC=24287.583, Time=15.504 seconds\nNear non-invertible roots for order (1, 1, 2)(0, 0, 0, 0); setting score to inf (at least one inverse root too close to the border of the unit circle: 1.000)\nFit ARIMA(2,1,1)x(0,0,0,0) [intercept=True]; AIC=24144.464, BIC=24286.629, Time=13.129 seconds\nNear non-invertible roots for order (2, 1, 1)(0, 0, 0, 0); setting score to inf (at least one inverse root too close to the border of the unit circle: 1.000)\nFit ARIMA(3,1,2)x(0,0,0,0) [intercept=True]; AIC=24146.835, BIC=24300.374, Time=21.078 seconds\nFit ARIMA(3,1,1)x(0,0,0,0) [intercept=True]; AIC=24150.409, BIC=24298.261, Time=17.131 seconds\nNear non-invertible roots for order (3, 1, 1)(0, 0, 0, 0); setting score to inf (at least one inverse root too close to the border of the unit circle: 0.999)\nFit ARIMA(4,1,2)x(0,0,0,0) [intercept=True]; AIC=24147.530, BIC=24306.755, Time=25.596 seconds\nFit ARIMA(3,1,3)x(0,0,0,0) [intercept=True]; AIC=24145.696, BIC=24304.922, Time=19.768 seconds\nFit ARIMA(2,1,3)x(0,0,0,0) [intercept=True]; AIC=24144.120, BIC=24297.658, Time=19.813 seconds\nNear non-invertible roots for order (2, 1, 3)(0, 0, 0, 0); setting score to inf (at least one inverse root too close to the border of the unit circle: 1.000)\nFit ARIMA(4,1,3)x(0,0,0,0) [intercept=True]; AIC=24145.422, BIC=24310.334, Time=24.009 seconds\nFit ARIMA(5,1,3)x(0,0,0,0) [intercept=True]; AIC=24146.838, BIC=24317.437, Time=25.757 seconds\nFit ARIMA(4,1,4)x(0,0,0,0) [intercept=True]; AIC=24149.488, BIC=24320.087, Time=24.181 seconds\nFit ARIMA(3,1,4)x(0,0,0,0) [intercept=True]; AIC=24150.389, BIC=24315.301, Time=23.774 seconds\nNear non-invertible roots for order (3, 1, 4)(0, 0, 0, 0); setting score to inf (at least one inverse root too close to the border of the unit circle: 0.999)\nFit ARIMA(5,1,2)x(0,0,0,0) [intercept=True]; AIC=24145.997, BIC=24310.909, Time=24.494 seconds\n100%|█████████▉| 1452/1454 [12:26:44<07:29, 224.63s/it]Fit ARIMA(5,1,4)x(0,0,0,0) [intercept=True]; AIC=24148.166, BIC=24324.451, Time=25.762 seconds\nNear non-invertible roots for order (5, 1, 4)(0, 0, 0, 0); setting score to inf (at least one inverse root too close to the border of the unit circle: 0.999)\nTotal fit time: 308.703 seconds\nPerforming stepwise search to minimize aic\nFit ARIMA(2,1,2)x(0,0,0,0) [intercept=True]; AIC=24169.984, BIC=24317.848, Time=16.102 seconds\nFit ARIMA(0,1,0)x(0,0,0,0) [intercept=True]; AIC=24776.882, BIC=24901.997, Time=0.560 seconds\nFit ARIMA(1,1,0)x(0,0,0,0) [intercept=True]; AIC=24762.373, BIC=24893.176, Time=0.551 seconds\nFit ARIMA(0,1,1)x(0,0,0,0) [intercept=True]; AIC=24741.768, BIC=24872.571, Time=4.017 seconds\nFit ARIMA(0,1,0)x(0,0,0,0) [intercept=False]; AIC=24774.887, BIC=24894.315, Time=5.932 seconds\nFit ARIMA(1,1,2)x(0,0,0,0) [intercept=True]; AIC=24164.316, BIC=24306.493, Time=14.714 seconds\nNear non-invertible roots for order (1, 1, 2)(0, 0, 0, 0); setting score to inf (at least one inverse root too close to the border of the unit circle: 1.000)\nFit ARIMA(2,1,1)x(0,0,0,0) [intercept=True]; AIC=24170.283, BIC=24312.460, Time=19.331 seconds\nFit ARIMA(3,1,2)x(0,0,0,0) [intercept=True]; AIC=24162.779, BIC=24316.330, Time=18.336 seconds\nNear non-invertible roots for order (3, 1, 2)(0, 0, 0, 0); setting score to inf (at least one inverse root too close to the border of the unit circle: 0.998)\nFit ARIMA(2,1,3)x(0,0,0,0) [intercept=True]; AIC=24167.364, BIC=24320.915, Time=19.897 seconds\nNear non-invertible roots for order (2, 1, 3)(0, 0, 0, 0); setting score to inf (at least one inverse root too close to the border of the unit circle: 1.000)\nFit ARIMA(1,1,1)x(0,0,0,0) [intercept=True]; AIC=24233.354, BIC=24369.844, Time=13.182 seconds\nNear non-invertible roots for order (1, 1, 1)(0, 0, 0, 0); setting score to inf (at least one inverse root too close to the border of the unit circle: 0.999)\nFit ARIMA(1,1,3)x(0,0,0,0) [intercept=True]; AIC=24170.016, BIC=24317.880, Time=20.307 seconds\nNear non-invertible roots for order (1, 1, 3)(0, 0, 0, 0); setting score to inf (at least one inverse root too close to the border of the unit circle: 0.995)\nFit ARIMA(3,1,1)x(0,0,0,0) [intercept=True]; AIC=24165.917, BIC=24313.781, Time=17.417 seconds\nNear non-invertible roots for order (3, 1, 1)(0, 0, 0, 0); setting score to inf (at least one inverse root too close to the border of the unit circle: 0.998)\nFit ARIMA(3,1,3)x(0,0,0,0) [intercept=True]; AIC=24166.789, BIC=24326.027, Time=20.616 seconds\nFit ARIMA(4,1,3)x(0,0,0,0) [intercept=True]; AIC=24169.387, BIC=24334.312, Time=22.039 seconds\nFit ARIMA(3,1,4)x(0,0,0,0) [intercept=True]; AIC=24171.469, BIC=24336.394, Time=23.715 seconds\nFit ARIMA(2,1,4)x(0,0,0,0) [intercept=True]; AIC=24167.501, BIC=24326.739, Time=21.738 seconds\nFit ARIMA(4,1,2)x(0,0,0,0) [intercept=True]; AIC=24165.055, BIC=24324.293, Time=21.743 seconds\nFit ARIMA(4,1,1)x(0,0,0,0) [intercept=True]; AIC=24166.689, BIC=24320.240, Time=21.353 seconds\nFit ARIMA(5,1,2)x(0,0,0,0) [intercept=True]; AIC=24164.465, BIC=24329.390, Time=22.238 seconds\nNear non-invertible roots for order (5, 1, 2)(0, 0, 0, 0); setting score to inf (at least one inverse root too close to the border of the unit circle: 0.996)\nFit ARIMA(5,1,1)x(0,0,0,0) [intercept=True]; AIC=24167.570, BIC=24326.808, Time=23.092 seconds\n100%|█████████▉| 1453/1454 [12:32:36<04:22, 262.64s/it]Fit ARIMA(5,1,3)x(0,0,0,0) [intercept=True]; AIC=24174.342, BIC=24344.954, Time=24.243 seconds\nTotal fit time: 351.150 seconds\nPerforming stepwise search to minimize aic\nFit ARIMA(2,1,2)x(0,0,0,0) [intercept=True]; AIC=24179.183, BIC=24327.059, Time=16.726 seconds\nFit ARIMA(0,1,0)x(0,0,0,0) [intercept=True]; AIC=24788.660, BIC=24913.785, Time=0.533 seconds\nFit ARIMA(1,1,0)x(0,0,0,0) [intercept=True]; AIC=24773.887, BIC=24904.700, Time=0.526 seconds\nFit ARIMA(0,1,1)x(0,0,0,0) [intercept=True]; AIC=24752.928, BIC=24883.741, Time=4.001 seconds\nFit ARIMA(0,1,0)x(0,0,0,0) [intercept=False]; AIC=24786.661, BIC=24906.100, Time=5.923 seconds\nFit ARIMA(1,1,2)x(0,0,0,0) [intercept=True]; AIC=24174.638, BIC=24316.826, Time=16.910 seconds\nNear non-invertible roots for order (1, 1, 2)(0, 0, 0, 0); setting score to inf (at least one inverse root too close to the border of the unit circle: 1.000)\nFit ARIMA(2,1,1)x(0,0,0,0) [intercept=True]; AIC=24174.070, BIC=24316.259, Time=14.869 seconds\nNear non-invertible roots for order (2, 1, 1)(0, 0, 0, 0); setting score to inf (at least one inverse root too close to the border of the unit circle: 1.000)\nFit ARIMA(3,1,2)x(0,0,0,0) [intercept=True]; AIC=24172.007, BIC=24325.571, Time=20.017 seconds\nNear non-invertible roots for order (3, 1, 2)(0, 0, 0, 0); setting score to inf (at least one inverse root too close to the border of the unit circle: 0.995)\nFit ARIMA(2,1,3)x(0,0,0,0) [intercept=True]; AIC=24172.564, BIC=24326.128, Time=20.935 seconds\nNear non-invertible roots for order (2, 1, 3)(0, 0, 0, 0); setting score to inf (at least one inverse root too close to the border of the unit circle: 1.000)\nFit ARIMA(1,1,1)x(0,0,0,0) [intercept=True]; AIC=24243.720, BIC=24380.221, Time=16.067 seconds\nNear non-invertible roots for order (1, 1, 1)(0, 0, 0, 0); setting score to inf (at least one inverse root too close to the border of the unit circle: 1.000)\nFit ARIMA(1,1,3)x(0,0,0,0) [intercept=True]; AIC=24176.384, BIC=24324.260, Time=19.478 seconds\nNear non-invertible roots for order (1, 1, 3)(0, 0, 0, 0); setting score to inf (at least one inverse root too close to the border of the unit circle: 1.000)\nFit ARIMA(3,1,1)x(0,0,0,0) [intercept=True]; AIC=24179.850, BIC=24327.726, Time=17.432 seconds\nNear non-invertible roots for order (3, 1, 1)(0, 0, 0, 0); setting score to inf (at least one inverse root too close to the border of the unit circle: 1.000)\nFit ARIMA(3,1,3)x(0,0,0,0) [intercept=True]; AIC=24175.483, BIC=24334.734, Time=20.611 seconds\nFit ARIMA(4,1,3)x(0,0,0,0) [intercept=True]; AIC=24174.370, BIC=24339.309, Time=22.469 seconds\nFit ARIMA(4,1,2)x(0,0,0,0) [intercept=True]; AIC=24175.888, BIC=24335.139, Time=23.217 seconds\nFit ARIMA(5,1,3)x(0,0,0,0) [intercept=True]; AIC=24178.706, BIC=24349.332, Time=22.903 seconds\nFit ARIMA(4,1,4)x(0,0,0,0) [intercept=True]; AIC=24178.867, BIC=24349.493, Time=23.354 seconds\nFit ARIMA(3,1,4)x(0,0,0,0) [intercept=True]; AIC=24179.606, BIC=24344.545, Time=24.547 seconds\nFit ARIMA(5,1,2)x(0,0,0,0) [intercept=True]; AIC=24172.615, BIC=24337.554, Time=24.311 seconds\nNear non-invertible roots for order (5, 1, 2)(0, 0, 0, 0); setting score to inf (at least one inverse root too close to the border of the unit circle: 1.000)\n100%|██████████| 1454/1454 [12:38:17<00:00, 31.29s/it]Fit ARIMA(5,1,4)x(0,0,0,0) [intercept=True]; AIC=24180.372, BIC=24356.686, Time=25.857 seconds\nTotal fit time: 340.711 seconds\n\n"
    }
   ],
   "source": [
    "df_with_lags_and_horizons = forecast_horizons(df=df, col=\"pm25\", timestamps=timestamps, forecast_start=FORECAST_START, horizons=FORECAST_DAYS, lags=14);"
   ]
  },
  {
   "cell_type": "code",
   "execution_count": 12,
   "metadata": {
    "tags": []
   },
   "outputs": [
    {
     "output_type": "stream",
     "name": "stdout",
     "text": "<class 'pandas.core.frame.DataFrame'>\nInt64Index: 10178 entries, 0 to 6\nData columns (total 34 columns):\n #   Column        Non-Null Count  Dtype  \n---  ------        --------------  -----  \n 0   horizon       10178 non-null  int64  \n 1   date_origin   10178 non-null  object \n 2   date_target   10178 non-null  object \n 3   target        10178 non-null  float64\n 4   pred_stl      0 non-null      float64\n 5   pred_arima    2506 non-null   float64\n 6   stl_lag_1     10178 non-null  float64\n 7   stl_lag_2     10178 non-null  float64\n 8   stl_lag_3     10178 non-null  float64\n 9   stl_lag_4     10178 non-null  float64\n 10  stl_lag_5     10178 non-null  float64\n 11  stl_lag_6     10178 non-null  float64\n 12  stl_lag_7     10178 non-null  float64\n 13  stl_lag_8     10178 non-null  float64\n 14  stl_lag_9     10178 non-null  float64\n 15  stl_lag_10    10178 non-null  float64\n 16  stl_lag_11    10178 non-null  float64\n 17  stl_lag_12    10178 non-null  float64\n 18  stl_lag_13    10178 non-null  float64\n 19  arima_lag_1   10178 non-null  float64\n 20  arima_lag_2   10178 non-null  float64\n 21  arima_lag_3   10178 non-null  float64\n 22  arima_lag_4   10178 non-null  float64\n 23  arima_lag_5   10178 non-null  float64\n 24  arima_lag_6   10178 non-null  float64\n 25  arima_lag_7   10178 non-null  float64\n 26  arima_lag_8   10178 non-null  float64\n 27  arima_lag_9   10178 non-null  float64\n 28  arima_lag_10  10178 non-null  float64\n 29  arima_lag_11  10178 non-null  float64\n 30  arima_lag_12  10178 non-null  float64\n 31  arima_lag_13  10178 non-null  float64\n 32  stl_lag_14    2506 non-null   float64\n 33  arima_lag_14  2506 non-null   float64\ndtypes: float64(31), int64(1), object(2)\nmemory usage: 2.7+ MB\n"
    }
   ],
   "source": [
    "df_with_lags_and_horizons.info()"
   ]
  },
  {
   "cell_type": "code",
   "execution_count": 13,
   "metadata": {},
   "outputs": [
    {
     "output_type": "execute_result",
     "data": {
      "text/plain": "   horizon date_origin date_target     target  pred_stl  pred_arima  \\\n0        1  2011-12-31  2012-01-01  72.250000       NaN         NaN   \n1        2  2011-12-31  2012-01-02  63.416667       NaN         NaN   \n0        1  2012-01-01  2012-01-02  63.416667       NaN         NaN   \n2        3  2011-12-31  2012-01-03  14.791667       NaN         NaN   \n1        2  2012-01-01  2012-01-03  14.791667       NaN         NaN   \n\n   stl_lag_1  stl_lag_2  stl_lag_3  stl_lag_4  ...  arima_lag_6  arima_lag_7  \\\n0  54.625000  30.416667  20.854167  84.375000  ...    52.125000   107.583333   \n1  43.333333  54.625000  30.416667  20.854167  ...    62.791667    52.125000   \n0  43.333333  54.625000  30.416667  20.854167  ...    62.791667    52.125000   \n2  85.625000  43.333333  54.625000  30.416667  ...    84.375000    62.791667   \n1  85.625000  43.333333  54.625000  30.416667  ...    84.375000    62.791667   \n\n   arima_lag_8  arima_lag_9  arima_lag_10  arima_lag_11  arima_lag_12  \\\n0    26.416667    14.500000     14.458333    156.916667     49.416667   \n1   107.583333    26.416667     14.500000     14.458333    156.916667   \n0   107.583333    26.416667     14.500000     14.458333    156.916667   \n2    52.125000   107.583333     26.416667     14.500000     14.458333   \n1    52.125000   107.583333     26.416667     14.500000     14.458333   \n\n   arima_lag_13  stl_lag_14  arima_lag_14  \n0     83.708333         NaN           NaN  \n1     49.416667         NaN           NaN  \n0     49.416667         NaN           NaN  \n2    156.916667         NaN           NaN  \n1    156.916667         NaN           NaN  \n\n[5 rows x 34 columns]",
      "text/html": "<div>\n<style scoped>\n    .dataframe tbody tr th:only-of-type {\n        vertical-align: middle;\n    }\n\n    .dataframe tbody tr th {\n        vertical-align: top;\n    }\n\n    .dataframe thead th {\n        text-align: right;\n    }\n</style>\n<table border=\"1\" class=\"dataframe\">\n  <thead>\n    <tr style=\"text-align: right;\">\n      <th></th>\n      <th>horizon</th>\n      <th>date_origin</th>\n      <th>date_target</th>\n      <th>target</th>\n      <th>pred_stl</th>\n      <th>pred_arima</th>\n      <th>stl_lag_1</th>\n      <th>stl_lag_2</th>\n      <th>stl_lag_3</th>\n      <th>stl_lag_4</th>\n      <th>...</th>\n      <th>arima_lag_6</th>\n      <th>arima_lag_7</th>\n      <th>arima_lag_8</th>\n      <th>arima_lag_9</th>\n      <th>arima_lag_10</th>\n      <th>arima_lag_11</th>\n      <th>arima_lag_12</th>\n      <th>arima_lag_13</th>\n      <th>stl_lag_14</th>\n      <th>arima_lag_14</th>\n    </tr>\n  </thead>\n  <tbody>\n    <tr>\n      <th>0</th>\n      <td>1</td>\n      <td>2011-12-31</td>\n      <td>2012-01-01</td>\n      <td>72.250000</td>\n      <td>NaN</td>\n      <td>NaN</td>\n      <td>54.625000</td>\n      <td>30.416667</td>\n      <td>20.854167</td>\n      <td>84.375000</td>\n      <td>...</td>\n      <td>52.125000</td>\n      <td>107.583333</td>\n      <td>26.416667</td>\n      <td>14.500000</td>\n      <td>14.458333</td>\n      <td>156.916667</td>\n      <td>49.416667</td>\n      <td>83.708333</td>\n      <td>NaN</td>\n      <td>NaN</td>\n    </tr>\n    <tr>\n      <th>1</th>\n      <td>2</td>\n      <td>2011-12-31</td>\n      <td>2012-01-02</td>\n      <td>63.416667</td>\n      <td>NaN</td>\n      <td>NaN</td>\n      <td>43.333333</td>\n      <td>54.625000</td>\n      <td>30.416667</td>\n      <td>20.854167</td>\n      <td>...</td>\n      <td>62.791667</td>\n      <td>52.125000</td>\n      <td>107.583333</td>\n      <td>26.416667</td>\n      <td>14.500000</td>\n      <td>14.458333</td>\n      <td>156.916667</td>\n      <td>49.416667</td>\n      <td>NaN</td>\n      <td>NaN</td>\n    </tr>\n    <tr>\n      <th>0</th>\n      <td>1</td>\n      <td>2012-01-01</td>\n      <td>2012-01-02</td>\n      <td>63.416667</td>\n      <td>NaN</td>\n      <td>NaN</td>\n      <td>43.333333</td>\n      <td>54.625000</td>\n      <td>30.416667</td>\n      <td>20.854167</td>\n      <td>...</td>\n      <td>62.791667</td>\n      <td>52.125000</td>\n      <td>107.583333</td>\n      <td>26.416667</td>\n      <td>14.500000</td>\n      <td>14.458333</td>\n      <td>156.916667</td>\n      <td>49.416667</td>\n      <td>NaN</td>\n      <td>NaN</td>\n    </tr>\n    <tr>\n      <th>2</th>\n      <td>3</td>\n      <td>2011-12-31</td>\n      <td>2012-01-03</td>\n      <td>14.791667</td>\n      <td>NaN</td>\n      <td>NaN</td>\n      <td>85.625000</td>\n      <td>43.333333</td>\n      <td>54.625000</td>\n      <td>30.416667</td>\n      <td>...</td>\n      <td>84.375000</td>\n      <td>62.791667</td>\n      <td>52.125000</td>\n      <td>107.583333</td>\n      <td>26.416667</td>\n      <td>14.500000</td>\n      <td>14.458333</td>\n      <td>156.916667</td>\n      <td>NaN</td>\n      <td>NaN</td>\n    </tr>\n    <tr>\n      <th>1</th>\n      <td>2</td>\n      <td>2012-01-01</td>\n      <td>2012-01-03</td>\n      <td>14.791667</td>\n      <td>NaN</td>\n      <td>NaN</td>\n      <td>85.625000</td>\n      <td>43.333333</td>\n      <td>54.625000</td>\n      <td>30.416667</td>\n      <td>...</td>\n      <td>84.375000</td>\n      <td>62.791667</td>\n      <td>52.125000</td>\n      <td>107.583333</td>\n      <td>26.416667</td>\n      <td>14.500000</td>\n      <td>14.458333</td>\n      <td>156.916667</td>\n      <td>NaN</td>\n      <td>NaN</td>\n    </tr>\n  </tbody>\n</table>\n<p>5 rows × 34 columns</p>\n</div>"
     },
     "metadata": {},
     "execution_count": 13
    }
   ],
   "source": [
    "df_with_lags_and_horizons.head()"
   ]
  },
  {
   "cell_type": "code",
   "execution_count": 14,
   "metadata": {},
   "outputs": [
    {
     "output_type": "execute_result",
     "data": {
      "text/plain": "   horizon date_origin date_target      target  pred_stl  pred_arima  \\\n5        6  2015-12-22  2015-12-28  112.416667       NaN   69.926394   \n4        5  2015-12-23  2015-12-28  112.416667       NaN   79.246681   \n6        7  2015-12-22  2015-12-29  331.875000       NaN   73.957458   \n5        6  2015-12-23  2015-12-29  331.875000       NaN   83.133738   \n6        7  2015-12-23  2015-12-30  101.750000       NaN   85.955393   \n\n   stl_lag_1  stl_lag_2  stl_lag_3   stl_lag_4  ...  arima_lag_6  arima_lag_7  \\\n5  82.275822  60.966481  69.815470   34.673479  ...   241.125000   238.208333   \n4  82.411146  61.101478  69.950149  254.541667  ...   241.125000   238.208333   \n6  91.076831  82.275822  60.966481   69.815470  ...   336.958333   241.125000   \n5  91.212478  82.411146  61.101478   69.950149  ...   336.958333   241.125000   \n6  69.917847  91.212478  82.411146   61.101478  ...   254.541667   336.958333   \n\n   arima_lag_8  arima_lag_9  arima_lag_10  arima_lag_11  arima_lag_12  \\\n5   169.062500    74.291667     59.958333      7.666667      6.083333   \n4   169.062500    74.291667     59.958333      7.666667      6.083333   \n6   238.208333   169.062500     74.291667     59.958333      7.666667   \n5   238.208333   169.062500     74.291667     59.958333      7.666667   \n6   241.125000   238.208333    169.062500     74.291667     59.958333   \n\n   arima_lag_13  stl_lag_14  arima_lag_14  \n5    144.375000  188.125000    188.125000  \n4    144.375000  188.125000    188.125000  \n6      6.083333  144.375000    144.375000  \n5      6.083333  144.375000    144.375000  \n6      7.666667    6.083333      6.083333  \n\n[5 rows x 34 columns]",
      "text/html": "<div>\n<style scoped>\n    .dataframe tbody tr th:only-of-type {\n        vertical-align: middle;\n    }\n\n    .dataframe tbody tr th {\n        vertical-align: top;\n    }\n\n    .dataframe thead th {\n        text-align: right;\n    }\n</style>\n<table border=\"1\" class=\"dataframe\">\n  <thead>\n    <tr style=\"text-align: right;\">\n      <th></th>\n      <th>horizon</th>\n      <th>date_origin</th>\n      <th>date_target</th>\n      <th>target</th>\n      <th>pred_stl</th>\n      <th>pred_arima</th>\n      <th>stl_lag_1</th>\n      <th>stl_lag_2</th>\n      <th>stl_lag_3</th>\n      <th>stl_lag_4</th>\n      <th>...</th>\n      <th>arima_lag_6</th>\n      <th>arima_lag_7</th>\n      <th>arima_lag_8</th>\n      <th>arima_lag_9</th>\n      <th>arima_lag_10</th>\n      <th>arima_lag_11</th>\n      <th>arima_lag_12</th>\n      <th>arima_lag_13</th>\n      <th>stl_lag_14</th>\n      <th>arima_lag_14</th>\n    </tr>\n  </thead>\n  <tbody>\n    <tr>\n      <th>5</th>\n      <td>6</td>\n      <td>2015-12-22</td>\n      <td>2015-12-28</td>\n      <td>112.416667</td>\n      <td>NaN</td>\n      <td>69.926394</td>\n      <td>82.275822</td>\n      <td>60.966481</td>\n      <td>69.815470</td>\n      <td>34.673479</td>\n      <td>...</td>\n      <td>241.125000</td>\n      <td>238.208333</td>\n      <td>169.062500</td>\n      <td>74.291667</td>\n      <td>59.958333</td>\n      <td>7.666667</td>\n      <td>6.083333</td>\n      <td>144.375000</td>\n      <td>188.125000</td>\n      <td>188.125000</td>\n    </tr>\n    <tr>\n      <th>4</th>\n      <td>5</td>\n      <td>2015-12-23</td>\n      <td>2015-12-28</td>\n      <td>112.416667</td>\n      <td>NaN</td>\n      <td>79.246681</td>\n      <td>82.411146</td>\n      <td>61.101478</td>\n      <td>69.950149</td>\n      <td>254.541667</td>\n      <td>...</td>\n      <td>241.125000</td>\n      <td>238.208333</td>\n      <td>169.062500</td>\n      <td>74.291667</td>\n      <td>59.958333</td>\n      <td>7.666667</td>\n      <td>6.083333</td>\n      <td>144.375000</td>\n      <td>188.125000</td>\n      <td>188.125000</td>\n    </tr>\n    <tr>\n      <th>6</th>\n      <td>7</td>\n      <td>2015-12-22</td>\n      <td>2015-12-29</td>\n      <td>331.875000</td>\n      <td>NaN</td>\n      <td>73.957458</td>\n      <td>91.076831</td>\n      <td>82.275822</td>\n      <td>60.966481</td>\n      <td>69.815470</td>\n      <td>...</td>\n      <td>336.958333</td>\n      <td>241.125000</td>\n      <td>238.208333</td>\n      <td>169.062500</td>\n      <td>74.291667</td>\n      <td>59.958333</td>\n      <td>7.666667</td>\n      <td>6.083333</td>\n      <td>144.375000</td>\n      <td>144.375000</td>\n    </tr>\n    <tr>\n      <th>5</th>\n      <td>6</td>\n      <td>2015-12-23</td>\n      <td>2015-12-29</td>\n      <td>331.875000</td>\n      <td>NaN</td>\n      <td>83.133738</td>\n      <td>91.212478</td>\n      <td>82.411146</td>\n      <td>61.101478</td>\n      <td>69.950149</td>\n      <td>...</td>\n      <td>336.958333</td>\n      <td>241.125000</td>\n      <td>238.208333</td>\n      <td>169.062500</td>\n      <td>74.291667</td>\n      <td>59.958333</td>\n      <td>7.666667</td>\n      <td>6.083333</td>\n      <td>144.375000</td>\n      <td>144.375000</td>\n    </tr>\n    <tr>\n      <th>6</th>\n      <td>7</td>\n      <td>2015-12-23</td>\n      <td>2015-12-30</td>\n      <td>101.750000</td>\n      <td>NaN</td>\n      <td>85.955393</td>\n      <td>69.917847</td>\n      <td>91.212478</td>\n      <td>82.411146</td>\n      <td>61.101478</td>\n      <td>...</td>\n      <td>254.541667</td>\n      <td>336.958333</td>\n      <td>241.125000</td>\n      <td>238.208333</td>\n      <td>169.062500</td>\n      <td>74.291667</td>\n      <td>59.958333</td>\n      <td>7.666667</td>\n      <td>6.083333</td>\n      <td>6.083333</td>\n    </tr>\n  </tbody>\n</table>\n<p>5 rows × 34 columns</p>\n</div>"
     },
     "metadata": {},
     "execution_count": 14
    }
   ],
   "source": [
    "df_with_lags_and_horizons.tail()"
   ]
  },
  {
   "cell_type": "code",
   "execution_count": 15,
   "metadata": {},
   "outputs": [],
   "source": [
    "df_with_lags_and_horizons.to_csv(\"data/df_with_lags_and_horizons.csv\")"
   ]
  }
 ],
 "metadata": {
  "colab": {
   "collapsed_sections": [
    "eSS3hfhJA_fq"
   ],
   "name": "03_machinelearning.ipynb",
   "provenance": []
  },
  "kernelspec": {
   "display_name": "Python 3",
   "language": "python",
   "name": "python3"
  },
  "language_info": {
   "codemirror_mode": {
    "name": "ipython",
    "version": 3
   },
   "file_extension": ".py",
   "mimetype": "text/x-python",
   "name": "python",
   "nbconvert_exporter": "python",
   "pygments_lexer": "ipython3",
   "version": "3.7.6-final"
  }
 },
 "nbformat": 4,
 "nbformat_minor": 1
}