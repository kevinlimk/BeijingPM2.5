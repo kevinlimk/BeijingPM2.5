{
 "cells": [
  {
   "cell_type": "markdown",
   "metadata": {
    "colab_type": "text",
    "id": "cd8A2n4yA_cm"
   },
   "source": [
    "# Using Machine Learning to Forecast Air Quality in Beijing"
   ]
  },
  {
   "cell_type": "markdown",
   "metadata": {
    "colab_type": "text",
    "id": "kkk2Oh3qHbJx"
   },
   "source": [
    "## 3 - Feature Engineering"
   ]
  },
  {
   "cell_type": "markdown",
   "metadata": {
    "colab_type": "text",
    "id": "7k43U-NBA_cr"
   },
   "source": [
    "### Import Python Packages"
   ]
  },
  {
   "cell_type": "code",
   "execution_count": 1,
   "metadata": {
    "colab": {},
    "colab_type": "code",
    "id": "24KxWuBlA_ct",
    "tags": []
   },
   "outputs": [
    {
     "output_type": "stream",
     "name": "stdout",
     "text": "The history saving thread hit an unexpected error (DatabaseError('database disk image is malformed')).History will not be written to the database.\n"
    }
   ],
   "source": [
    "import pandas as pd\n",
    "import numpy as np\n",
    "from datetime import datetime, timedelta\n",
    "import matplotlib.pyplot as plt\n",
    "from statsmodels.tsa.stattools import adfuller\n",
    "\n",
    "import pmdarima as pm\n",
    "from pmdarima import pipeline\n",
    "from pmdarima import preprocessing as ppc\n",
    "from pmdarima import arima\n",
    "from stldecompose import decompose, forecast\n",
    "from stldecompose.forecast_funcs import (naive, drift, mean, seasonal_naive)\n",
    "\n",
    "from tqdm import tqdm as tqdm"
   ]
  },
  {
   "cell_type": "markdown",
   "metadata": {
    "colab_type": "text",
    "id": "1ZybtiNxA_cz"
   },
   "source": [
    "### Load cleaned data set"
   ]
  },
  {
   "cell_type": "code",
   "execution_count": 2,
   "metadata": {
    "colab": {
     "base_uri": "https://localhost:8080/",
     "height": 683
    },
    "colab_type": "code",
    "executionInfo": {
     "elapsed": 860,
     "status": "ok",
     "timestamp": 1583265075813,
     "user": {
      "displayName": "Kevin Limkrailassiri (Seattle)",
      "photoUrl": "https://lh3.googleusercontent.com/a-/AOh14GjTZF6PvMqu-27sXiqIhKDVBWap6jfV2nfp_c8=s64",
      "userId": "08941516172105773546"
     },
     "user_tz": 480
    },
    "id": "zapxirogA_c1",
    "outputId": "6ad4799e-42f4-473f-f64c-0c04fa802a6f",
    "scrolled": true,
    "tags": []
   },
   "outputs": [
    {
     "output_type": "stream",
     "name": "stdout",
     "text": "<class 'pandas.core.frame.DataFrame'>\nDatetimeIndex: 2190 entries, 2010-01-02 to 2015-12-31\nData columns (total 12 columns):\n #   Column             Non-Null Count  Dtype  \n---  ------             --------------  -----  \n 0   wind_dir           2190 non-null   object \n 1   year               2190 non-null   int64  \n 2   month              2190 non-null   int64  \n 3   season             2190 non-null   int64  \n 4   pm25               2190 non-null   float64\n 5   dew_point          2190 non-null   float64\n 6   humidity           2190 non-null   float64\n 7   pressure           2190 non-null   float64\n 8   temp               2190 non-null   float64\n 9   wind_speed         2190 non-null   float64\n 10  precipitation      2190 non-null   float64\n 11  cum_precipitation  2190 non-null   float64\ndtypes: float64(8), int64(3), object(1)\nmemory usage: 222.4+ KB\n"
    },
    {
     "output_type": "execute_result",
     "data": {
      "text/plain": "           wind_dir  year  month  season        pm25  dew_point   humidity  \\\n2010-01-02       SE  2010      1       4  144.333333  -8.500000  77.937500   \n2010-01-03       SE  2010      1       4   78.375000 -10.125000  87.916667   \n2010-01-04       NW  2010      1       4   29.291667 -20.875000  46.208333   \n2010-01-05       NW  2010      1       4   43.541667 -24.583333  42.041667   \n2010-01-06       NE  2010      1       4   59.375000 -23.708333  39.208333   \n\n               pressure       temp  wind_speed  precipitation  \\\n2010-01-02  1024.750000  -5.125000   24.860000       0.000000   \n2010-01-03  1022.791667  -8.541667   70.937917       0.466667   \n2010-01-04  1029.291667 -11.500000  111.160833       0.000000   \n2010-01-05  1033.625000 -14.458333   56.920000       0.000000   \n2010-01-06  1033.750000 -12.541667   18.511667       0.000000   \n\n            cum_precipitation  \n2010-01-02                0.0  \n2010-01-03               11.2  \n2010-01-04                0.0  \n2010-01-05                0.0  \n2010-01-06                0.0  ",
      "text/html": "<div>\n<style scoped>\n    .dataframe tbody tr th:only-of-type {\n        vertical-align: middle;\n    }\n\n    .dataframe tbody tr th {\n        vertical-align: top;\n    }\n\n    .dataframe thead th {\n        text-align: right;\n    }\n</style>\n<table border=\"1\" class=\"dataframe\">\n  <thead>\n    <tr style=\"text-align: right;\">\n      <th></th>\n      <th>wind_dir</th>\n      <th>year</th>\n      <th>month</th>\n      <th>season</th>\n      <th>pm25</th>\n      <th>dew_point</th>\n      <th>humidity</th>\n      <th>pressure</th>\n      <th>temp</th>\n      <th>wind_speed</th>\n      <th>precipitation</th>\n      <th>cum_precipitation</th>\n    </tr>\n  </thead>\n  <tbody>\n    <tr>\n      <th>2010-01-02</th>\n      <td>SE</td>\n      <td>2010</td>\n      <td>1</td>\n      <td>4</td>\n      <td>144.333333</td>\n      <td>-8.500000</td>\n      <td>77.937500</td>\n      <td>1024.750000</td>\n      <td>-5.125000</td>\n      <td>24.860000</td>\n      <td>0.000000</td>\n      <td>0.0</td>\n    </tr>\n    <tr>\n      <th>2010-01-03</th>\n      <td>SE</td>\n      <td>2010</td>\n      <td>1</td>\n      <td>4</td>\n      <td>78.375000</td>\n      <td>-10.125000</td>\n      <td>87.916667</td>\n      <td>1022.791667</td>\n      <td>-8.541667</td>\n      <td>70.937917</td>\n      <td>0.466667</td>\n      <td>11.2</td>\n    </tr>\n    <tr>\n      <th>2010-01-04</th>\n      <td>NW</td>\n      <td>2010</td>\n      <td>1</td>\n      <td>4</td>\n      <td>29.291667</td>\n      <td>-20.875000</td>\n      <td>46.208333</td>\n      <td>1029.291667</td>\n      <td>-11.500000</td>\n      <td>111.160833</td>\n      <td>0.000000</td>\n      <td>0.0</td>\n    </tr>\n    <tr>\n      <th>2010-01-05</th>\n      <td>NW</td>\n      <td>2010</td>\n      <td>1</td>\n      <td>4</td>\n      <td>43.541667</td>\n      <td>-24.583333</td>\n      <td>42.041667</td>\n      <td>1033.625000</td>\n      <td>-14.458333</td>\n      <td>56.920000</td>\n      <td>0.000000</td>\n      <td>0.0</td>\n    </tr>\n    <tr>\n      <th>2010-01-06</th>\n      <td>NE</td>\n      <td>2010</td>\n      <td>1</td>\n      <td>4</td>\n      <td>59.375000</td>\n      <td>-23.708333</td>\n      <td>39.208333</td>\n      <td>1033.750000</td>\n      <td>-12.541667</td>\n      <td>18.511667</td>\n      <td>0.000000</td>\n      <td>0.0</td>\n    </tr>\n  </tbody>\n</table>\n</div>"
     },
     "metadata": {},
     "execution_count": 2
    }
   ],
   "source": [
    "df = pd.read_csv('data/dailypm25.csv',\n",
    "                 index_col=0,\n",
    "                 parse_dates=[0],\n",
    "                 date_parser=pd.to_datetime,\n",
    "                 infer_datetime_format=True)\n",
    "df.info()\n",
    "df.head()"
   ]
  },
  {
   "cell_type": "code",
   "execution_count": 3,
   "metadata": {},
   "outputs": [
    {
     "output_type": "execute_result",
     "data": {
      "text/plain": "           wind_dir  year  month  season        pm25  dew_point   humidity  \\\n2015-12-27       NE  2015     12       4   56.208333 -13.958333  53.541667   \n2015-12-28       NW  2015     12       4  112.416667 -11.458333  60.750000   \n2015-12-29       cv  2015     12       4  331.875000  -6.625000  76.125000   \n2015-12-30       NW  2015     12       4  101.750000  -8.750000  58.458333   \n2015-12-31       NW  2015     12       4   70.875000 -10.083333  59.416667   \n\n               pressure      temp  wind_speed  precipitation  \\\n2015-12-27  1038.625000 -5.666667    3.950833            0.0   \n2015-12-28  1035.041667 -4.291667   13.656667            0.0   \n2015-12-29  1028.875000 -2.791667    1.244583            0.0   \n2015-12-30  1030.375000 -0.333333   26.502500            0.0   \n2015-12-31  1032.458333 -2.833333    9.073333            0.0   \n\n            cum_precipitation  \n2015-12-27                0.0  \n2015-12-28                0.0  \n2015-12-29                0.0  \n2015-12-30                0.0  \n2015-12-31                0.0  ",
      "text/html": "<div>\n<style scoped>\n    .dataframe tbody tr th:only-of-type {\n        vertical-align: middle;\n    }\n\n    .dataframe tbody tr th {\n        vertical-align: top;\n    }\n\n    .dataframe thead th {\n        text-align: right;\n    }\n</style>\n<table border=\"1\" class=\"dataframe\">\n  <thead>\n    <tr style=\"text-align: right;\">\n      <th></th>\n      <th>wind_dir</th>\n      <th>year</th>\n      <th>month</th>\n      <th>season</th>\n      <th>pm25</th>\n      <th>dew_point</th>\n      <th>humidity</th>\n      <th>pressure</th>\n      <th>temp</th>\n      <th>wind_speed</th>\n      <th>precipitation</th>\n      <th>cum_precipitation</th>\n    </tr>\n  </thead>\n  <tbody>\n    <tr>\n      <th>2015-12-27</th>\n      <td>NE</td>\n      <td>2015</td>\n      <td>12</td>\n      <td>4</td>\n      <td>56.208333</td>\n      <td>-13.958333</td>\n      <td>53.541667</td>\n      <td>1038.625000</td>\n      <td>-5.666667</td>\n      <td>3.950833</td>\n      <td>0.0</td>\n      <td>0.0</td>\n    </tr>\n    <tr>\n      <th>2015-12-28</th>\n      <td>NW</td>\n      <td>2015</td>\n      <td>12</td>\n      <td>4</td>\n      <td>112.416667</td>\n      <td>-11.458333</td>\n      <td>60.750000</td>\n      <td>1035.041667</td>\n      <td>-4.291667</td>\n      <td>13.656667</td>\n      <td>0.0</td>\n      <td>0.0</td>\n    </tr>\n    <tr>\n      <th>2015-12-29</th>\n      <td>cv</td>\n      <td>2015</td>\n      <td>12</td>\n      <td>4</td>\n      <td>331.875000</td>\n      <td>-6.625000</td>\n      <td>76.125000</td>\n      <td>1028.875000</td>\n      <td>-2.791667</td>\n      <td>1.244583</td>\n      <td>0.0</td>\n      <td>0.0</td>\n    </tr>\n    <tr>\n      <th>2015-12-30</th>\n      <td>NW</td>\n      <td>2015</td>\n      <td>12</td>\n      <td>4</td>\n      <td>101.750000</td>\n      <td>-8.750000</td>\n      <td>58.458333</td>\n      <td>1030.375000</td>\n      <td>-0.333333</td>\n      <td>26.502500</td>\n      <td>0.0</td>\n      <td>0.0</td>\n    </tr>\n    <tr>\n      <th>2015-12-31</th>\n      <td>NW</td>\n      <td>2015</td>\n      <td>12</td>\n      <td>4</td>\n      <td>70.875000</td>\n      <td>-10.083333</td>\n      <td>59.416667</td>\n      <td>1032.458333</td>\n      <td>-2.833333</td>\n      <td>9.073333</td>\n      <td>0.0</td>\n      <td>0.0</td>\n    </tr>\n  </tbody>\n</table>\n</div>"
     },
     "metadata": {},
     "execution_count": 3
    }
   ],
   "source": [
    "df.tail()"
   ]
  },
  {
   "cell_type": "code",
   "execution_count": 4,
   "metadata": {},
   "outputs": [],
   "source": [
    "from pmdarima.arima.stationarity import ADFTest\n",
    "\n",
    "# Test whether we should difference at the alpha=0.05\n",
    "# significance level\n",
    "adf_test = ADFTest(alpha=0.05)\n",
    "p_val, should_diff = adf_test.should_diff(df.pm25.values)  # (0.01, False)"
   ]
  },
  {
   "cell_type": "code",
   "execution_count": 5,
   "metadata": {},
   "outputs": [],
   "source": [
    "# Generating a 7 day forecast for the first week of 2015\n",
    "\n",
    "BURN_IN = \"2012-01-01\"\n",
    "FORECAST_START = \"2015-01-01\"\n",
    "FORECAST_END = \"2015-12-31\"\n",
    "FORECAST_DAYS = 7"
   ]
  },
  {
   "cell_type": "code",
   "execution_count": 6,
   "metadata": {},
   "outputs": [],
   "source": [
    "timestamps = pd.date_range(start=BURN_IN, end=FORECAST_END, freq='W')"
   ]
  },
  {
   "cell_type": "code",
   "execution_count": 7,
   "metadata": {},
   "outputs": [],
   "source": [
    "def create_lag_features(series, lag_range, prefix):\n",
    "\n",
    "    df = pd.DataFrame()\n",
    "\n",
    "    for lag in lag_range:\n",
    "        df[prefix + \"_lag_\" + str(lag - 1)] = series.shift(lag)\n",
    "\n",
    "    return(df)"
   ]
  },
  {
   "cell_type": "code",
   "execution_count": 8,
   "metadata": {},
   "outputs": [],
   "source": [
    "def fit_stl(history, steps):\n",
    "    decomp = decompose(history, period=365)\n",
    "    pred = forecast(decomp, steps=steps, fc_func=drift, seasonal=True)\n",
    "    return(pred)"
   ]
  },
  {
   "cell_type": "code",
   "execution_count": 9,
   "metadata": {},
   "outputs": [],
   "source": [
    "def fit_arima(history, steps):\n",
    "    pipe = pipeline.Pipeline(\n",
    "        [\n",
    "            (\"fourier\", ppc.FourierFeaturizer(m=365.25, k=10)),\n",
    "            (\"arima\", arima.AutoARIMA(\n",
    "                stepwise=True,\n",
    "                trace=1,\n",
    "                error_action=\"ignore\",\n",
    "                seasonal=False,\n",
    "                suppress_warnings=True\n",
    "                ))])\n",
    "\n",
    "    pipe.fit(history);\n",
    "    pred = pipe.predict(n_periods=steps)\n",
    "    return(pred)"
   ]
  },
  {
   "cell_type": "code",
   "execution_count": 10,
   "metadata": {},
   "outputs": [],
   "source": [
    "def forecast_horizons(df, col, timestamps, horizons, lags):\n",
    "\n",
    "    dfs_with_horizons = []\n",
    "    \n",
    "    for timestamp in tqdm(timestamps[:-1]):\n",
    "\n",
    "        df_with_horizon = pd.DataFrame()\n",
    "\n",
    "        df_with_horizon[\"horizon\"] = list(range(1, horizons+1))\n",
    "        df_with_horizon[\"date_origin\"] = [(timestamp.date() - timedelta(days=1)).strftime('%Y-%m-%d')]*horizons\n",
    "        df_with_horizon[\"date_target\"] = pd.date_range(start=timestamp.date(), periods=horizons, freq='D').astype(str).to_list()\n",
    "        df_with_horizon[\"target\"] = df[timestamp.date():][col].head(horizons).values\n",
    "\n",
    "        history = df[:timestamp.date()][col].tail(-1)\n",
    "\n",
    "        pred_stl = fit_stl(history, steps=horizons)\n",
    "        pred_arima = fit_arima(history, steps=horizons);\n",
    "\n",
    "        df_stl_lags = create_lag_features(series=pd.Series(np.append(history, pred_stl)), lag_range=range(2, lags + 1), prefix=\"stl\").tail(horizons).reset_index(drop=True)\n",
    "        df_arima_lags = create_lag_features(series=pd.Series(np.append(history, pred_arima)), lag_range=range(2, lags + 1), prefix=\"arima\").tail(horizons).reset_index(drop=True)\n",
    "\n",
    "        dfs_with_horizons.append(pd.concat([df_with_horizon, df_stl_lags, df_arima_lags], axis=1))\n",
    "\n",
    "    return pd.concat(dfs_with_horizons).sort_values([\"date_target\", \"date_origin\"])"
   ]
  },
  {
   "cell_type": "code",
   "execution_count": 11,
   "metadata": {
    "tags": [
     "outputPrepend"
    ]
   },
   "outputs": [
    {
     "output_type": "stream",
     "name": "stderr",
     "text": " BIC=23759.324, Time=11.102 seconds\nNear non-invertible roots for order (3, 1, 1)(0, 0, 0, 0); setting score to inf (at least one inverse root too close to the border of the unit circle: 1.000)\nFit ARIMA(3,1,3)x(0,0,0,0) [intercept=True]; AIC=23605.518, BIC=23764.172, Time=21.047 seconds\nFit ARIMA(4,1,3)x(0,0,0,0) [intercept=True]; AIC=23607.490, BIC=23771.810, Time=25.259 seconds\nNear non-invertible roots for order (4, 1, 3)(0, 0, 0, 0); setting score to inf (at least one inverse root too close to the border of the unit circle: 0.998)\nFit ARIMA(3,1,4)x(0,0,0,0) [intercept=True]; AIC=23609.816, BIC=23774.136, Time=24.257 seconds\nNear non-invertible roots for order (3, 1, 4)(0, 0, 0, 0); setting score to inf (at least one inverse root too close to the border of the unit circle: 0.999)\nFit ARIMA(2,1,4)x(0,0,0,0) [intercept=True]; AIC=23610.313, BIC=23768.968, Time=20.517 seconds\nNear non-invertible roots for order (2, 1, 4)(0, 0, 0, 0); setting score to inf (at least one inverse root too close to the border of the unit circle: 1.000)\nFit ARIMA(4,1,2)x(0,0,0,0) [intercept=True]; AIC=23607.353, BIC=23766.007, Time=23.157 seconds\nNear non-invertible roots for order (4, 1, 2)(0, 0, 0, 0); setting score to inf (at least one inverse root too close to the border of the unit circle: 1.000)\n 97%|█████████▋| 202/208 [4:38:29<23:40, 236.70s/it]Fit ARIMA(4,1,4)x(0,0,0,0) [intercept=True]; AIC=23610.878, BIC=23780.864, Time=23.955 seconds\nTotal fit time: 259.031 seconds\nPerforming stepwise search to minimize aic\nFit ARIMA(2,1,2)x(0,0,0,0) [intercept=True]; AIC=23688.587, BIC=23835.994, Time=19.377 seconds\nFit ARIMA(0,1,0)x(0,0,0,0) [intercept=True]; AIC=24295.791, BIC=24420.520, Time=0.528 seconds\nFit ARIMA(1,1,0)x(0,0,0,0) [intercept=True]; AIC=24279.414, BIC=24409.813, Time=1.053 seconds\nFit ARIMA(0,1,1)x(0,0,0,0) [intercept=True]; AIC=24255.867, BIC=24386.266, Time=4.389 seconds\nFit ARIMA(0,1,0)x(0,0,0,0) [intercept=False]; AIC=24293.793, BIC=24412.852, Time=5.428 seconds\nFit ARIMA(1,1,2)x(0,0,0,0) [intercept=True]; AIC=23688.395, BIC=23830.132, Time=16.581 seconds\nNear non-invertible roots for order (1, 1, 2)(0, 0, 0, 0); setting score to inf (at least one inverse root too close to the border of the unit circle: 0.999)\nFit ARIMA(2,1,1)x(0,0,0,0) [intercept=True]; AIC=23687.088, BIC=23828.825, Time=16.138 seconds\nNear non-invertible roots for order (2, 1, 1)(0, 0, 0, 0); setting score to inf (at least one inverse root too close to the border of the unit circle: 1.000)\nFit ARIMA(3,1,2)x(0,0,0,0) [intercept=True]; AIC=23682.873, BIC=23835.949, Time=17.947 seconds\nNear non-invertible roots for order (3, 1, 2)(0, 0, 0, 0); setting score to inf (at least one inverse root too close to the border of the unit circle: 1.000)\nFit ARIMA(2,1,3)x(0,0,0,0) [intercept=True]; AIC=23686.041, BIC=23839.117, Time=25.099 seconds\nNear non-invertible roots for order (2, 1, 3)(0, 0, 0, 0); setting score to inf (at least one inverse root too close to the border of the unit circle: 1.000)\nFit ARIMA(1,1,1)x(0,0,0,0) [intercept=True]; AIC=23752.727, BIC=23888.795, Time=14.317 seconds\nNear non-invertible roots for order (1, 1, 1)(0, 0, 0, 0); setting score to inf (at least one inverse root too close to the border of the unit circle: 0.999)\nFit ARIMA(1,1,3)x(0,0,0,0) [intercept=True]; AIC=23689.791, BIC=23837.198, Time=21.262 seconds\nNear non-invertible roots for order (1, 1, 3)(0, 0, 0, 0); setting score to inf (at least one inverse root too close to the border of the unit circle: 0.998)\nFit ARIMA(3,1,1)x(0,0,0,0) [intercept=True]; AIC=23688.865, BIC=23836.272, Time=19.800 seconds\nNear non-invertible roots for order (3, 1, 1)(0, 0, 0, 0); setting score to inf (at least one inverse root too close to the border of the unit circle: 1.000)\n 98%|█████████▊| 203/208 [4:41:35<18:28, 221.74s/it]Fit ARIMA(3,1,3)x(0,0,0,0) [intercept=True]; AIC=23688.685, BIC=23847.431, Time=24.653 seconds\nTotal fit time: 186.604 seconds\nPerforming stepwise search to minimize aic\nFit ARIMA(2,1,2)x(0,0,0,0) [intercept=True]; AIC=23760.934, BIC=23908.426, Time=20.121 seconds\nFit ARIMA(0,1,0)x(0,0,0,0) [intercept=True]; AIC=24372.805, BIC=24497.606, Time=0.616 seconds\nFit ARIMA(1,1,0)x(0,0,0,0) [intercept=True]; AIC=24356.824, BIC=24487.298, Time=1.216 seconds\nFit ARIMA(0,1,1)x(0,0,0,0) [intercept=True]; AIC=24333.856, BIC=24464.329, Time=2.615 seconds\nFit ARIMA(0,1,0)x(0,0,0,0) [intercept=False]; AIC=24370.805, BIC=24489.933, Time=6.511 seconds\nFit ARIMA(1,1,2)x(0,0,0,0) [intercept=True]; AIC=23761.451, BIC=23903.270, Time=15.779 seconds\nNear non-invertible roots for order (1, 1, 2)(0, 0, 0, 0); setting score to inf (at least one inverse root too close to the border of the unit circle: 0.999)\nFit ARIMA(2,1,1)x(0,0,0,0) [intercept=True]; AIC=23761.150, BIC=23902.969, Time=10.510 seconds\nNear non-invertible roots for order (2, 1, 1)(0, 0, 0, 0); setting score to inf (at least one inverse root too close to the border of the unit circle: 1.000)\nFit ARIMA(3,1,2)x(0,0,0,0) [intercept=True]; AIC=23756.747, BIC=23909.911, Time=20.644 seconds\nNear non-invertible roots for order (3, 1, 2)(0, 0, 0, 0); setting score to inf (at least one inverse root too close to the border of the unit circle: 1.000)\nFit ARIMA(2,1,3)x(0,0,0,0) [intercept=True]; AIC=23759.624, BIC=23912.788, Time=23.436 seconds\nNear non-invertible roots for order (2, 1, 3)(0, 0, 0, 0); setting score to inf (at least one inverse root too close to the border of the unit circle: 1.000)\nFit ARIMA(1,1,1)x(0,0,0,0) [intercept=True]; AIC=23827.522, BIC=23963.668, Time=8.263 seconds\nNear non-invertible roots for order (1, 1, 1)(0, 0, 0, 0); setting score to inf (at least one inverse root too close to the border of the unit circle: 0.999)\nFit ARIMA(1,1,3)x(0,0,0,0) [intercept=True]; AIC=23762.533, BIC=23910.025, Time=20.563 seconds\nNear non-invertible roots for order (1, 1, 3)(0, 0, 0, 0); setting score to inf (at least one inverse root too close to the border of the unit circle: 0.996)\nFit ARIMA(3,1,1)x(0,0,0,0) [intercept=True]; AIC=23762.903, BIC=23910.395, Time=13.564 seconds\nNear non-invertible roots for order (3, 1, 1)(0, 0, 0, 0); setting score to inf (at least one inverse root too close to the border of the unit circle: 1.000)\n 98%|█████████▊| 204/208 [4:44:21<13:39, 204.87s/it]Fit ARIMA(3,1,3)x(0,0,0,0) [intercept=True]; AIC=23759.092, BIC=23917.930, Time=21.374 seconds\nNear non-invertible roots for order (3, 1, 3)(0, 0, 0, 0); setting score to inf (at least one inverse root too close to the border of the unit circle: 1.000)\nTotal fit time: 165.243 seconds\nPerforming stepwise search to minimize aic\nFit ARIMA(2,1,2)x(0,0,0,0) [intercept=True]; AIC=23846.823, BIC=23994.399, Time=19.299 seconds\nFit ARIMA(0,1,0)x(0,0,0,0) [intercept=True]; AIC=24455.744, BIC=24580.616, Time=0.588 seconds\nFit ARIMA(1,1,0)x(0,0,0,0) [intercept=True]; AIC=24440.047, BIC=24570.595, Time=1.161 seconds\nFit ARIMA(0,1,1)x(0,0,0,0) [intercept=True]; AIC=24417.705, BIC=24548.254, Time=2.419 seconds\nFit ARIMA(0,1,0)x(0,0,0,0) [intercept=False]; AIC=24453.747, BIC=24572.943, Time=6.362 seconds\nFit ARIMA(1,1,2)x(0,0,0,0) [intercept=True]; AIC=23845.126, BIC=23987.026, Time=19.143 seconds\nNear non-invertible roots for order (1, 1, 2)(0, 0, 0, 0); setting score to inf (at least one inverse root too close to the border of the unit circle: 0.999)\nFit ARIMA(2,1,1)x(0,0,0,0) [intercept=True]; AIC=23853.504, BIC=23995.404, Time=10.158 seconds\nNear non-invertible roots for order (2, 1, 1)(0, 0, 0, 0); setting score to inf (at least one inverse root too close to the border of the unit circle: 1.000)\nFit ARIMA(3,1,2)x(0,0,0,0) [intercept=True]; AIC=23840.225, BIC=23993.478, Time=21.972 seconds\nNear non-invertible roots for order (3, 1, 2)(0, 0, 0, 0); setting score to inf (at least one inverse root too close to the border of the unit circle: 1.000)\nFit ARIMA(2,1,3)x(0,0,0,0) [intercept=True]; AIC=23844.972, BIC=23998.225, Time=23.058 seconds\nNear non-invertible roots for order (2, 1, 3)(0, 0, 0, 0); setting score to inf (at least one inverse root too close to the border of the unit circle: 1.000)\nFit ARIMA(1,1,1)x(0,0,0,0) [intercept=True]; AIC=23911.074, BIC=24047.298, Time=14.974 seconds\nNear non-invertible roots for order (1, 1, 1)(0, 0, 0, 0); setting score to inf (at least one inverse root too close to the border of the unit circle: 0.999)\nFit ARIMA(1,1,3)x(0,0,0,0) [intercept=True]; AIC=23846.458, BIC=23994.034, Time=20.757 seconds\nNear non-invertible roots for order (1, 1, 3)(0, 0, 0, 0); setting score to inf (at least one inverse root too close to the border of the unit circle: 0.999)\nFit ARIMA(3,1,1)x(0,0,0,0) [intercept=True]; AIC=23845.263, BIC=23992.839, Time=18.404 seconds\nNear non-invertible roots for order (3, 1, 1)(0, 0, 0, 0); setting score to inf (at least one inverse root too close to the border of the unit circle: 1.000)\nFit ARIMA(3,1,3)x(0,0,0,0) [intercept=True]; AIC=23845.016, BIC=24003.945, Time=24.623 seconds\nFit ARIMA(4,1,3)x(0,0,0,0) [intercept=True]; AIC=23846.821, BIC=24011.425, Time=27.641 seconds\nNear non-invertible roots for order (4, 1, 3)(0, 0, 0, 0); setting score to inf (at least one inverse root too close to the border of the unit circle: 0.996)\nFit ARIMA(3,1,4)x(0,0,0,0) [intercept=True]; AIC=23851.229, BIC=24015.833, Time=28.787 seconds\nNear non-invertible roots for order (3, 1, 4)(0, 0, 0, 0); setting score to inf (at least one inverse root too close to the border of the unit circle: 0.999)\nFit ARIMA(2,1,4)x(0,0,0,0) [intercept=True]; AIC=23843.095, BIC=24002.023, Time=27.438 seconds\nNear non-invertible roots for order (2, 1, 4)(0, 0, 0, 0); setting score to inf (at least one inverse root too close to the border of the unit circle: 0.998)\nFit ARIMA(4,1,2)x(0,0,0,0) [intercept=True]; AIC=23842.557, BIC=24001.485, Time=27.311 seconds\nFit ARIMA(4,1,1)x(0,0,0,0) [intercept=True]; AIC=23844.571, BIC=23997.823, Time=25.709 seconds\nNear non-invertible roots for order (4, 1, 1)(0, 0, 0, 0); setting score to inf (at least one inverse root too close to the border of the unit circle: 0.996)\nFit ARIMA(5,1,2)x(0,0,0,0) [intercept=True]; AIC=23844.250, BIC=24008.854, Time=28.512 seconds\nFit ARIMA(5,1,1)x(0,0,0,0) [intercept=True]; AIC=23853.450, BIC=24012.378, Time=25.545 seconds\nNear non-invertible roots for order (5, 1, 1)(0, 0, 0, 0); setting score to inf (at least one inverse root too close to the border of the unit circle: 1.000)\n 99%|█████████▊| 205/208 [4:51:03<13:11, 263.89s/it]Fit ARIMA(5,1,3)x(0,0,0,0) [intercept=True]; AIC=23854.589, BIC=24024.869, Time=27.381 seconds\nTotal fit time: 401.276 seconds\nPerforming stepwise search to minimize aic\nFit ARIMA(2,1,2)x(0,0,0,0) [intercept=True]; AIC=23964.106, BIC=24111.766, Time=18.778 seconds\nFit ARIMA(0,1,0)x(0,0,0,0) [intercept=True]; AIC=24579.682, BIC=24704.625, Time=0.549 seconds\nFit ARIMA(1,1,0)x(0,0,0,0) [intercept=True]; AIC=24563.908, BIC=24694.531, Time=1.080 seconds\nFit ARIMA(0,1,1)x(0,0,0,0) [intercept=True]; AIC=24541.396, BIC=24672.019, Time=2.302 seconds\nFit ARIMA(0,1,0)x(0,0,0,0) [intercept=False]; AIC=24577.683, BIC=24696.947, Time=6.068 seconds\nFit ARIMA(1,1,2)x(0,0,0,0) [intercept=True]; AIC=23963.237, BIC=24105.218, Time=16.895 seconds\nNear non-invertible roots for order (1, 1, 2)(0, 0, 0, 0); setting score to inf (at least one inverse root too close to the border of the unit circle: 0.999)\nFit ARIMA(2,1,1)x(0,0,0,0) [intercept=True]; AIC=23962.621, BIC=24104.602, Time=19.189 seconds\nNear non-invertible roots for order (2, 1, 1)(0, 0, 0, 0); setting score to inf (at least one inverse root too close to the border of the unit circle: 1.000)\nFit ARIMA(3,1,2)x(0,0,0,0) [intercept=True]; AIC=23961.966, BIC=24115.306, Time=13.027 seconds\nNear non-invertible roots for order (3, 1, 2)(0, 0, 0, 0); setting score to inf (at least one inverse root too close to the border of the unit circle: 1.000)\nFit ARIMA(2,1,3)x(0,0,0,0) [intercept=True]; AIC=23964.432, BIC=24117.772, Time=15.110 seconds\nNear non-invertible roots for order (2, 1, 3)(0, 0, 0, 0); setting score to inf (at least one inverse root too close to the border of the unit circle: 1.000)\nFit ARIMA(1,1,1)x(0,0,0,0) [intercept=True]; AIC=24032.284, BIC=24168.586, Time=8.398 seconds\nNear non-invertible roots for order (1, 1, 1)(0, 0, 0, 0); setting score to inf (at least one inverse root too close to the border of the unit circle: 0.999)\nFit ARIMA(1,1,3)x(0,0,0,0) [intercept=True]; AIC=23967.333, BIC=24114.994, Time=11.061 seconds\nNear non-invertible roots for order (1, 1, 3)(0, 0, 0, 0); setting score to inf (at least one inverse root too close to the border of the unit circle: 0.998)\nFit ARIMA(3,1,1)x(0,0,0,0) [intercept=True]; AIC=23966.940, BIC=24114.601, Time=11.344 seconds\nNear non-invertible roots for order (3, 1, 1)(0, 0, 0, 0); setting score to inf (at least one inverse root too close to the border of the unit circle: 1.000)\nFit ARIMA(3,1,3)x(0,0,0,0) [intercept=True]; AIC=23962.207, BIC=24121.226, Time=22.580 seconds\nFit ARIMA(4,1,3)x(0,0,0,0) [intercept=True]; AIC=23961.962, BIC=24126.660, Time=23.229 seconds\nNear non-invertible roots for order (4, 1, 3)(0, 0, 0, 0); setting score to inf (at least one inverse root too close to the border of the unit circle: 0.999)\nFit ARIMA(3,1,4)x(0,0,0,0) [intercept=True]; AIC=23964.393, BIC=24129.091, Time=24.950 seconds\nNear non-invertible roots for order (3, 1, 4)(0, 0, 0, 0); setting score to inf (at least one inverse root too close to the border of the unit circle: 1.000)\nFit ARIMA(2,1,4)x(0,0,0,0) [intercept=True]; AIC=23964.217, BIC=24123.236, Time=24.040 seconds\nNear non-invertible roots for order (2, 1, 4)(0, 0, 0, 0); setting score to inf (at least one inverse root too close to the border of the unit circle: 0.999)\nFit ARIMA(4,1,2)x(0,0,0,0) [intercept=True]; AIC=23961.525, BIC=24120.544, Time=23.908 seconds\nNear non-invertible roots for order (4, 1, 2)(0, 0, 0, 0); setting score to inf (at least one inverse root too close to the border of the unit circle: 1.000)\n 99%|█████████▉| 206/208 [4:55:30<08:50, 265.11s/it]Fit ARIMA(4,1,4)x(0,0,0,0) [intercept=True]; AIC=23964.241, BIC=24134.618, Time=25.185 seconds\nNear non-invertible roots for order (4, 1, 4)(0, 0, 0, 0); setting score to inf (at least one inverse root too close to the border of the unit circle: 0.999)\nTotal fit time: 267.717 seconds\nPerforming stepwise search to minimize aic\nFit ARIMA(2,1,2)x(0,0,0,0) [intercept=True]; AIC=24048.957, BIC=24196.702, Time=17.736 seconds\nFit ARIMA(0,1,0)x(0,0,0,0) [intercept=True]; AIC=24663.091, BIC=24788.106, Time=0.556 seconds\nFit ARIMA(1,1,0)x(0,0,0,0) [intercept=True]; AIC=24647.904, BIC=24778.601, Time=1.098 seconds\nFit ARIMA(0,1,1)x(0,0,0,0) [intercept=True]; AIC=24626.125, BIC=24756.822, Time=2.346 seconds\nFit ARIMA(0,1,0)x(0,0,0,0) [intercept=False]; AIC=24661.093, BIC=24780.425, Time=5.570 seconds\nFit ARIMA(1,1,2)x(0,0,0,0) [intercept=True]; AIC=24044.531, BIC=24186.593, Time=13.849 seconds\nNear non-invertible roots for order (1, 1, 2)(0, 0, 0, 0); setting score to inf (at least one inverse root too close to the border of the unit circle: 0.999)\nFit ARIMA(2,1,1)x(0,0,0,0) [intercept=True]; AIC=24043.938, BIC=24186.000, Time=16.005 seconds\nNear non-invertible roots for order (2, 1, 1)(0, 0, 0, 0); setting score to inf (at least one inverse root too close to the border of the unit circle: 1.000)\nFit ARIMA(3,1,2)x(0,0,0,0) [intercept=True]; AIC=24040.885, BIC=24194.312, Time=19.311 seconds\nNear non-invertible roots for order (3, 1, 2)(0, 0, 0, 0); setting score to inf (at least one inverse root too close to the border of the unit circle: 1.000)\nFit ARIMA(2,1,3)x(0,0,0,0) [intercept=True]; AIC=24042.939, BIC=24196.366, Time=22.142 seconds\nNear non-invertible roots for order (2, 1, 3)(0, 0, 0, 0); setting score to inf (at least one inverse root too close to the border of the unit circle: 1.000)\nFit ARIMA(1,1,1)x(0,0,0,0) [intercept=True]; AIC=24118.210, BIC=24254.590, Time=8.262 seconds\nNear non-invertible roots for order (1, 1, 1)(0, 0, 0, 0); setting score to inf (at least one inverse root too close to the border of the unit circle: 0.999)\nFit ARIMA(1,1,3)x(0,0,0,0) [intercept=True]; AIC=24046.272, BIC=24194.017, Time=19.890 seconds\nNear non-invertible roots for order (1, 1, 3)(0, 0, 0, 0); setting score to inf (at least one inverse root too close to the border of the unit circle: 0.999)\nFit ARIMA(3,1,1)x(0,0,0,0) [intercept=True]; AIC=24048.708, BIC=24196.452, Time=18.489 seconds\nNear non-invertible roots for order (3, 1, 1)(0, 0, 0, 0); setting score to inf (at least one inverse root too close to the border of the unit circle: 1.000)\nFit ARIMA(3,1,3)x(0,0,0,0) [intercept=True]; AIC=24044.813, BIC=24203.922, Time=21.068 seconds\nFit ARIMA(4,1,3)x(0,0,0,0) [intercept=True]; AIC=24043.860, BIC=24208.652, Time=22.883 seconds\nFit ARIMA(4,1,2)x(0,0,0,0) [intercept=True]; AIC=24045.969, BIC=24205.078, Time=25.067 seconds\nFit ARIMA(5,1,3)x(0,0,0,0) [intercept=True]; AIC=24044.944, BIC=24215.419, Time=26.337 seconds\nFit ARIMA(4,1,4)x(0,0,0,0) [intercept=True]; AIC=24046.437, BIC=24216.911, Time=25.538 seconds\nNear non-invertible roots for order (4, 1, 4)(0, 0, 0, 0); setting score to inf (at least one inverse root too close to the border of the unit circle: 1.000)\nFit ARIMA(3,1,4)x(0,0,0,0) [intercept=True]; AIC=24048.515, BIC=24213.307, Time=25.742 seconds\nNear non-invertible roots for order (3, 1, 4)(0, 0, 0, 0); setting score to inf (at least one inverse root too close to the border of the unit circle: 0.999)\nFit ARIMA(5,1,2)x(0,0,0,0) [intercept=True]; AIC=24045.043, BIC=24209.835, Time=26.578 seconds\n100%|█████████▉| 207/208 [5:01:18<04:49, 289.74s/it]Fit ARIMA(5,1,4)x(0,0,0,0) [intercept=True]; AIC=24045.245, BIC=24221.402, Time=28.446 seconds\nNear non-invertible roots for order (5, 1, 4)(0, 0, 0, 0); setting score to inf (at least one inverse root too close to the border of the unit circle: 0.999)\nTotal fit time: 346.943 seconds\nPerforming stepwise search to minimize aic\nFit ARIMA(2,1,2)x(0,0,0,0) [intercept=True]; AIC=24126.320, BIC=24274.148, Time=18.470 seconds\nFit ARIMA(0,1,0)x(0,0,0,0) [intercept=True]; AIC=24743.052, BIC=24868.137, Time=0.541 seconds\nFit ARIMA(1,1,0)x(0,0,0,0) [intercept=True]; AIC=24728.388, BIC=24859.159, Time=1.107 seconds\nFit ARIMA(0,1,1)x(0,0,0,0) [intercept=True]; AIC=24707.353, BIC=24838.124, Time=2.326 seconds\nFit ARIMA(0,1,0)x(0,0,0,0) [intercept=False]; AIC=24741.056, BIC=24860.456, Time=6.123 seconds\nFit ARIMA(1,1,2)x(0,0,0,0) [intercept=True]; AIC=24124.215, BIC=24266.357, Time=18.790 seconds\nNear non-invertible roots for order (1, 1, 2)(0, 0, 0, 0); setting score to inf (at least one inverse root too close to the border of the unit circle: 0.997)\nFit ARIMA(2,1,1)x(0,0,0,0) [intercept=True]; AIC=24122.318, BIC=24264.460, Time=16.615 seconds\nNear non-invertible roots for order (2, 1, 1)(0, 0, 0, 0); setting score to inf (at least one inverse root too close to the border of the unit circle: 0.999)\nFit ARIMA(3,1,2)x(0,0,0,0) [intercept=True]; AIC=24122.293, BIC=24275.807, Time=22.207 seconds\nFit ARIMA(3,1,1)x(0,0,0,0) [intercept=True]; AIC=24127.462, BIC=24275.290, Time=19.174 seconds\nFit ARIMA(4,1,2)x(0,0,0,0) [intercept=True]; AIC=24122.361, BIC=24281.561, Time=23.034 seconds\nNear non-invertible roots for order (4, 1, 2)(0, 0, 0, 0); setting score to inf (at least one inverse root too close to the border of the unit circle: 0.991)\nFit ARIMA(3,1,3)x(0,0,0,0) [intercept=True]; AIC=24125.395, BIC=24284.595, Time=21.409 seconds\nFit ARIMA(2,1,3)x(0,0,0,0) [intercept=True]; AIC=24121.875, BIC=24275.389, Time=23.428 seconds\nNear non-invertible roots for order (2, 1, 3)(0, 0, 0, 0); setting score to inf (at least one inverse root too close to the border of the unit circle: 1.000)\nFit ARIMA(4,1,1)x(0,0,0,0) [intercept=True]; AIC=24129.380, BIC=24282.894, Time=26.358 seconds\n100%|██████████| 208/208 [5:05:01<00:00, 87.99s/it]Fit ARIMA(4,1,3)x(0,0,0,0) [intercept=True]; AIC=24126.661, BIC=24291.546, Time=23.055 seconds\nTotal fit time: 222.658 seconds\n\n"
    }
   ],
   "source": [
    "df_with_lags_and_horizons = forecast_horizons(df=df, col=\"pm25\", timestamps=timestamps, horizons=FORECAST_DAYS, lags=14);"
   ]
  },
  {
   "cell_type": "code",
   "execution_count": 12,
   "metadata": {
    "tags": []
   },
   "outputs": [
    {
     "output_type": "stream",
     "name": "stdout",
     "text": "<class 'pandas.core.frame.DataFrame'>\nInt64Index: 1456 entries, 0 to 6\nData columns (total 30 columns):\n #   Column        Non-Null Count  Dtype  \n---  ------        --------------  -----  \n 0   horizon       1456 non-null   int64  \n 1   date_origin   1456 non-null   object \n 2   date_target   1456 non-null   object \n 3   target        1456 non-null   float64\n 4   stl_lag_1     1456 non-null   float64\n 5   stl_lag_2     1456 non-null   float64\n 6   stl_lag_3     1456 non-null   float64\n 7   stl_lag_4     1456 non-null   float64\n 8   stl_lag_5     1456 non-null   float64\n 9   stl_lag_6     1456 non-null   float64\n 10  stl_lag_7     1456 non-null   float64\n 11  stl_lag_8     1456 non-null   float64\n 12  stl_lag_9     1456 non-null   float64\n 13  stl_lag_10    1456 non-null   float64\n 14  stl_lag_11    1456 non-null   float64\n 15  stl_lag_12    1456 non-null   float64\n 16  stl_lag_13    1456 non-null   float64\n 17  arima_lag_1   1456 non-null   float64\n 18  arima_lag_2   1456 non-null   float64\n 19  arima_lag_3   1456 non-null   float64\n 20  arima_lag_4   1456 non-null   float64\n 21  arima_lag_5   1456 non-null   float64\n 22  arima_lag_6   1456 non-null   float64\n 23  arima_lag_7   1456 non-null   float64\n 24  arima_lag_8   1456 non-null   float64\n 25  arima_lag_9   1456 non-null   float64\n 26  arima_lag_10  1456 non-null   float64\n 27  arima_lag_11  1456 non-null   float64\n 28  arima_lag_12  1456 non-null   float64\n 29  arima_lag_13  1456 non-null   float64\ndtypes: float64(27), int64(1), object(2)\nmemory usage: 352.6+ KB\n"
    }
   ],
   "source": [
    "df_with_lags_and_horizons.info()"
   ]
  },
  {
   "cell_type": "code",
   "execution_count": 13,
   "metadata": {},
   "outputs": [
    {
     "output_type": "execute_result",
     "data": {
      "text/plain": "   horizon date_origin date_target      target   stl_lag_1   stl_lag_2  \\\n0        1  2011-12-31  2012-01-01   72.250000  163.666667  136.625000   \n1        2  2011-12-31  2012-01-02   63.416667   72.250000  163.666667   \n2        3  2011-12-31  2012-01-03   14.791667   59.233902   72.250000   \n3        4  2011-12-31  2012-01-04   33.833333  141.421644   59.233902   \n4        5  2011-12-31  2012-01-05  117.208333   73.739829  141.421644   \n\n    stl_lag_3   stl_lag_4   stl_lag_5   stl_lag_6  ...  arima_lag_4  \\\n0   61.750000  160.500000  198.875000  145.833333  ...   160.500000   \n1  136.625000   61.750000  160.500000  198.875000  ...    61.750000   \n2  163.666667  136.625000   61.750000  160.500000  ...   136.625000   \n3   72.250000  163.666667  136.625000   61.750000  ...   163.666667   \n4   59.233902   72.250000  163.666667  136.625000  ...    72.250000   \n\n   arima_lag_5  arima_lag_6  arima_lag_7  arima_lag_8  arima_lag_9  \\\n0   198.875000   145.833333    85.625000    43.333333    54.625000   \n1   160.500000   198.875000   145.833333    85.625000    43.333333   \n2    61.750000   160.500000   198.875000   145.833333    85.625000   \n3   136.625000    61.750000   160.500000   198.875000   145.833333   \n4   163.666667   136.625000    61.750000   160.500000   198.875000   \n\n   arima_lag_10  arima_lag_11  arima_lag_12  arima_lag_13  \n0     30.416667     20.854167     84.375000     62.791667  \n1     54.625000     30.416667     20.854167     84.375000  \n2     43.333333     54.625000     30.416667     20.854167  \n3     85.625000     43.333333     54.625000     30.416667  \n4    145.833333     85.625000     43.333333     54.625000  \n\n[5 rows x 30 columns]",
      "text/html": "<div>\n<style scoped>\n    .dataframe tbody tr th:only-of-type {\n        vertical-align: middle;\n    }\n\n    .dataframe tbody tr th {\n        vertical-align: top;\n    }\n\n    .dataframe thead th {\n        text-align: right;\n    }\n</style>\n<table border=\"1\" class=\"dataframe\">\n  <thead>\n    <tr style=\"text-align: right;\">\n      <th></th>\n      <th>horizon</th>\n      <th>date_origin</th>\n      <th>date_target</th>\n      <th>target</th>\n      <th>stl_lag_1</th>\n      <th>stl_lag_2</th>\n      <th>stl_lag_3</th>\n      <th>stl_lag_4</th>\n      <th>stl_lag_5</th>\n      <th>stl_lag_6</th>\n      <th>...</th>\n      <th>arima_lag_4</th>\n      <th>arima_lag_5</th>\n      <th>arima_lag_6</th>\n      <th>arima_lag_7</th>\n      <th>arima_lag_8</th>\n      <th>arima_lag_9</th>\n      <th>arima_lag_10</th>\n      <th>arima_lag_11</th>\n      <th>arima_lag_12</th>\n      <th>arima_lag_13</th>\n    </tr>\n  </thead>\n  <tbody>\n    <tr>\n      <th>0</th>\n      <td>1</td>\n      <td>2011-12-31</td>\n      <td>2012-01-01</td>\n      <td>72.250000</td>\n      <td>163.666667</td>\n      <td>136.625000</td>\n      <td>61.750000</td>\n      <td>160.500000</td>\n      <td>198.875000</td>\n      <td>145.833333</td>\n      <td>...</td>\n      <td>160.500000</td>\n      <td>198.875000</td>\n      <td>145.833333</td>\n      <td>85.625000</td>\n      <td>43.333333</td>\n      <td>54.625000</td>\n      <td>30.416667</td>\n      <td>20.854167</td>\n      <td>84.375000</td>\n      <td>62.791667</td>\n    </tr>\n    <tr>\n      <th>1</th>\n      <td>2</td>\n      <td>2011-12-31</td>\n      <td>2012-01-02</td>\n      <td>63.416667</td>\n      <td>72.250000</td>\n      <td>163.666667</td>\n      <td>136.625000</td>\n      <td>61.750000</td>\n      <td>160.500000</td>\n      <td>198.875000</td>\n      <td>...</td>\n      <td>61.750000</td>\n      <td>160.500000</td>\n      <td>198.875000</td>\n      <td>145.833333</td>\n      <td>85.625000</td>\n      <td>43.333333</td>\n      <td>54.625000</td>\n      <td>30.416667</td>\n      <td>20.854167</td>\n      <td>84.375000</td>\n    </tr>\n    <tr>\n      <th>2</th>\n      <td>3</td>\n      <td>2011-12-31</td>\n      <td>2012-01-03</td>\n      <td>14.791667</td>\n      <td>59.233902</td>\n      <td>72.250000</td>\n      <td>163.666667</td>\n      <td>136.625000</td>\n      <td>61.750000</td>\n      <td>160.500000</td>\n      <td>...</td>\n      <td>136.625000</td>\n      <td>61.750000</td>\n      <td>160.500000</td>\n      <td>198.875000</td>\n      <td>145.833333</td>\n      <td>85.625000</td>\n      <td>43.333333</td>\n      <td>54.625000</td>\n      <td>30.416667</td>\n      <td>20.854167</td>\n    </tr>\n    <tr>\n      <th>3</th>\n      <td>4</td>\n      <td>2011-12-31</td>\n      <td>2012-01-04</td>\n      <td>33.833333</td>\n      <td>141.421644</td>\n      <td>59.233902</td>\n      <td>72.250000</td>\n      <td>163.666667</td>\n      <td>136.625000</td>\n      <td>61.750000</td>\n      <td>...</td>\n      <td>163.666667</td>\n      <td>136.625000</td>\n      <td>61.750000</td>\n      <td>160.500000</td>\n      <td>198.875000</td>\n      <td>145.833333</td>\n      <td>85.625000</td>\n      <td>43.333333</td>\n      <td>54.625000</td>\n      <td>30.416667</td>\n    </tr>\n    <tr>\n      <th>4</th>\n      <td>5</td>\n      <td>2011-12-31</td>\n      <td>2012-01-05</td>\n      <td>117.208333</td>\n      <td>73.739829</td>\n      <td>141.421644</td>\n      <td>59.233902</td>\n      <td>72.250000</td>\n      <td>163.666667</td>\n      <td>136.625000</td>\n      <td>...</td>\n      <td>72.250000</td>\n      <td>163.666667</td>\n      <td>136.625000</td>\n      <td>61.750000</td>\n      <td>160.500000</td>\n      <td>198.875000</td>\n      <td>145.833333</td>\n      <td>85.625000</td>\n      <td>43.333333</td>\n      <td>54.625000</td>\n    </tr>\n  </tbody>\n</table>\n<p>5 rows × 30 columns</p>\n</div>"
     },
     "metadata": {},
     "execution_count": 13
    }
   ],
   "source": [
    "df_with_lags_and_horizons.head()"
   ]
  },
  {
   "cell_type": "code",
   "execution_count": 14,
   "metadata": {},
   "outputs": [
    {
     "output_type": "execute_result",
     "data": {
      "text/plain": "   horizon date_origin date_target      target  stl_lag_1   stl_lag_2  \\\n2        3  2015-12-19  2015-12-22  336.958333  39.488597  238.208333   \n3        4  2015-12-19  2015-12-23  254.541667  39.734528   39.488597   \n4        5  2015-12-19  2015-12-24  100.416667  34.543150   39.734528   \n5        6  2015-12-19  2015-12-25  537.250000  69.684583   34.543150   \n6        7  2015-12-19  2015-12-26  254.333333  60.835001   69.684583   \n\n    stl_lag_3   stl_lag_4   stl_lag_5   stl_lag_6  ...  arima_lag_4  \\\n2  169.062500   74.291667   59.958333    7.666667  ...    74.291667   \n3  238.208333  169.062500   74.291667   59.958333  ...   169.062500   \n4   39.488597  238.208333  169.062500   74.291667  ...   238.208333   \n5   39.734528   39.488597  238.208333  169.062500  ...   156.442746   \n6   34.543150   39.734528   39.488597  238.208333  ...   103.004285   \n\n   arima_lag_5  arima_lag_6  arima_lag_7  arima_lag_8  arima_lag_9  \\\n2    59.958333     7.666667     6.083333   144.375000   188.125000   \n3    74.291667    59.958333     7.666667     6.083333   144.375000   \n4   169.062500    74.291667    59.958333     7.666667     6.083333   \n5   238.208333   169.062500    74.291667    59.958333     7.666667   \n6   156.442746   238.208333   169.062500    74.291667    59.958333   \n\n   arima_lag_10  arima_lag_11  arima_lag_12  arima_lag_13  \n2    159.041667     44.833333     96.875000    266.729167  \n3    188.125000    159.041667     44.833333     96.875000  \n4    144.375000    188.125000    159.041667     44.833333  \n5      6.083333    144.375000    188.125000    159.041667  \n6      7.666667      6.083333    144.375000    188.125000  \n\n[5 rows x 30 columns]",
      "text/html": "<div>\n<style scoped>\n    .dataframe tbody tr th:only-of-type {\n        vertical-align: middle;\n    }\n\n    .dataframe tbody tr th {\n        vertical-align: top;\n    }\n\n    .dataframe thead th {\n        text-align: right;\n    }\n</style>\n<table border=\"1\" class=\"dataframe\">\n  <thead>\n    <tr style=\"text-align: right;\">\n      <th></th>\n      <th>horizon</th>\n      <th>date_origin</th>\n      <th>date_target</th>\n      <th>target</th>\n      <th>stl_lag_1</th>\n      <th>stl_lag_2</th>\n      <th>stl_lag_3</th>\n      <th>stl_lag_4</th>\n      <th>stl_lag_5</th>\n      <th>stl_lag_6</th>\n      <th>...</th>\n      <th>arima_lag_4</th>\n      <th>arima_lag_5</th>\n      <th>arima_lag_6</th>\n      <th>arima_lag_7</th>\n      <th>arima_lag_8</th>\n      <th>arima_lag_9</th>\n      <th>arima_lag_10</th>\n      <th>arima_lag_11</th>\n      <th>arima_lag_12</th>\n      <th>arima_lag_13</th>\n    </tr>\n  </thead>\n  <tbody>\n    <tr>\n      <th>2</th>\n      <td>3</td>\n      <td>2015-12-19</td>\n      <td>2015-12-22</td>\n      <td>336.958333</td>\n      <td>39.488597</td>\n      <td>238.208333</td>\n      <td>169.062500</td>\n      <td>74.291667</td>\n      <td>59.958333</td>\n      <td>7.666667</td>\n      <td>...</td>\n      <td>74.291667</td>\n      <td>59.958333</td>\n      <td>7.666667</td>\n      <td>6.083333</td>\n      <td>144.375000</td>\n      <td>188.125000</td>\n      <td>159.041667</td>\n      <td>44.833333</td>\n      <td>96.875000</td>\n      <td>266.729167</td>\n    </tr>\n    <tr>\n      <th>3</th>\n      <td>4</td>\n      <td>2015-12-19</td>\n      <td>2015-12-23</td>\n      <td>254.541667</td>\n      <td>39.734528</td>\n      <td>39.488597</td>\n      <td>238.208333</td>\n      <td>169.062500</td>\n      <td>74.291667</td>\n      <td>59.958333</td>\n      <td>...</td>\n      <td>169.062500</td>\n      <td>74.291667</td>\n      <td>59.958333</td>\n      <td>7.666667</td>\n      <td>6.083333</td>\n      <td>144.375000</td>\n      <td>188.125000</td>\n      <td>159.041667</td>\n      <td>44.833333</td>\n      <td>96.875000</td>\n    </tr>\n    <tr>\n      <th>4</th>\n      <td>5</td>\n      <td>2015-12-19</td>\n      <td>2015-12-24</td>\n      <td>100.416667</td>\n      <td>34.543150</td>\n      <td>39.734528</td>\n      <td>39.488597</td>\n      <td>238.208333</td>\n      <td>169.062500</td>\n      <td>74.291667</td>\n      <td>...</td>\n      <td>238.208333</td>\n      <td>169.062500</td>\n      <td>74.291667</td>\n      <td>59.958333</td>\n      <td>7.666667</td>\n      <td>6.083333</td>\n      <td>144.375000</td>\n      <td>188.125000</td>\n      <td>159.041667</td>\n      <td>44.833333</td>\n    </tr>\n    <tr>\n      <th>5</th>\n      <td>6</td>\n      <td>2015-12-19</td>\n      <td>2015-12-25</td>\n      <td>537.250000</td>\n      <td>69.684583</td>\n      <td>34.543150</td>\n      <td>39.734528</td>\n      <td>39.488597</td>\n      <td>238.208333</td>\n      <td>169.062500</td>\n      <td>...</td>\n      <td>156.442746</td>\n      <td>238.208333</td>\n      <td>169.062500</td>\n      <td>74.291667</td>\n      <td>59.958333</td>\n      <td>7.666667</td>\n      <td>6.083333</td>\n      <td>144.375000</td>\n      <td>188.125000</td>\n      <td>159.041667</td>\n    </tr>\n    <tr>\n      <th>6</th>\n      <td>7</td>\n      <td>2015-12-19</td>\n      <td>2015-12-26</td>\n      <td>254.333333</td>\n      <td>60.835001</td>\n      <td>69.684583</td>\n      <td>34.543150</td>\n      <td>39.734528</td>\n      <td>39.488597</td>\n      <td>238.208333</td>\n      <td>...</td>\n      <td>103.004285</td>\n      <td>156.442746</td>\n      <td>238.208333</td>\n      <td>169.062500</td>\n      <td>74.291667</td>\n      <td>59.958333</td>\n      <td>7.666667</td>\n      <td>6.083333</td>\n      <td>144.375000</td>\n      <td>188.125000</td>\n    </tr>\n  </tbody>\n</table>\n<p>5 rows × 30 columns</p>\n</div>"
     },
     "metadata": {},
     "execution_count": 14
    }
   ],
   "source": [
    "df_with_lags_and_horizons.tail()"
   ]
  },
  {
   "cell_type": "code",
   "execution_count": 15,
   "metadata": {},
   "outputs": [],
   "source": [
    "df_with_lags_and_horizons.to_csv(\"data/df_with_lags_and_horizons.csv\")"
   ]
  }
 ],
 "metadata": {
  "colab": {
   "collapsed_sections": [
    "eSS3hfhJA_fq"
   ],
   "name": "03_machinelearning.ipynb",
   "provenance": []
  },
  "kernelspec": {
   "display_name": "Python 3",
   "language": "python",
   "name": "python3"
  },
  "language_info": {
   "codemirror_mode": {
    "name": "ipython",
    "version": 3
   },
   "file_extension": ".py",
   "mimetype": "text/x-python",
   "name": "python",
   "nbconvert_exporter": "python",
   "pygments_lexer": "ipython3",
   "version": "3.7.6-final"
  }
 },
 "nbformat": 4,
 "nbformat_minor": 1
}